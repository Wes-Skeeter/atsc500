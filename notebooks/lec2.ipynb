{
 "cells": [
  {
   "cell_type": "markdown",
   "metadata": {},
   "source": [
    "#Reading a netcdf file"
   ]
  },
  {
   "cell_type": "markdown",
   "metadata": {},
   "source": [
    "1.  Fetch the netcdf file tropical.nc from my webserver (50 Mbytes)"
   ]
  },
  {
   "cell_type": "code",
   "execution_count": 16,
   "metadata": {
    "collapsed": false
   },
   "outputs": [
    {
     "data": {
      "text/plain": [
       "('tropical_subset.nc', <http.client.HTTPMessage at 0x115595940>)"
      ]
     },
     "execution_count": 16,
     "metadata": {},
     "output_type": "execute_result"
    }
   ],
   "source": [
    "import urllib.request\n",
    "urllib.request.urlretrieve(\"http://clouds.eos.ubc.ca/~phil/docs/atsc500/tropical_subset.nc\", \n",
    "                           \"tropical_subset.nc\")"
   ]
  },
  {
   "cell_type": "markdown",
   "metadata": {},
   "source": [
    "2.  Identify the file structure using ncdump"
   ]
  },
  {
   "cell_type": "code",
   "execution_count": 10,
   "metadata": {
    "collapsed": false
   },
   "outputs": [
    {
     "name": "stdout",
     "output_type": "stream",
     "text": [
      "netcdf tropical_subset {\r\n",
      "dimensions:\r\n",
      "\tx = 100 ;\r\n",
      "\ty = 110 ;\r\n",
      "\tz = UNLIMITED ; // (112 currently)\r\n",
      "\ttime = UNLIMITED ; // (1 currently)\r\n",
      "variables:\r\n",
      "\tfloat x(x) ;\r\n",
      "\t\tstring x:units = \"m\" ;\r\n",
      "\tfloat y(y) ;\r\n",
      "\t\tstring y:units = \"m\" ;\r\n",
      "\tfloat z(z) ;\r\n",
      "\t\tstring z:units = \"m\" ;\r\n",
      "\t\tstring z:long_name = \"height\" ;\r\n",
      "\tfloat time(time) ;\r\n",
      "\t\tstring time:units = \"d\" ;\r\n",
      "\t\tstring time:long_name = \"time\" ;\r\n",
      "\tfloat p(z) ;\r\n",
      "\t\tstring p:units = \"mb\" ;\r\n",
      "\t\tstring p:long_name = \"pressure\" ;\r\n",
      "\tfloat U(time, z, y, x) ;\r\n",
      "\t\tstring U:long_name = \"X Wind Component\" ;\r\n",
      "\t\tstring U:units = \"m/s\" ;\r\n",
      "\tfloat V(time, z, y, x) ;\r\n",
      "\t\tstring V:long_name = \"Y Wind Component\" ;\r\n",
      "\t\tstring V:units = \"m/s\" ;\r\n",
      "\tfloat W(time, z, y, x) ;\r\n",
      "\t\tstring W:long_name = \"Z Wind Component\" ;\r\n",
      "\t\tstring W:units = \"m/s\" ;\r\n",
      "\tfloat PP(time, z, y, x) ;\r\n",
      "\t\tstring PP:long_name = \"Pressure Perturbation\" ;\r\n",
      "\t\tstring PP:units = \"Pa\" ;\r\n",
      "\tfloat TABS(time, z, y, x) ;\r\n",
      "\t\tstring TABS:long_name = \"Absolute Temperature\" ;\r\n",
      "\t\tstring TABS:units = \"K\" ;\r\n",
      "\tfloat QV(time, z, y, x) ;\r\n",
      "\t\tstring QV:long_name = \"Water Vapor\" ;\r\n",
      "\t\tstring QV:units = \"g/kg\" ;\r\n",
      "\tfloat QN(time, z, y, x) ;\r\n",
      "\t\tstring QN:long_name = \"Non-precipitating Condensate (Water+Ice)\" ;\r\n",
      "\t\tstring QN:units = \"g/kg\" ;\r\n",
      "\tfloat QP(time, z, y, x) ;\r\n",
      "\t\tstring QP:long_name = \"Precipitating Water (Rain+Snow)\" ;\r\n",
      "\t\tstring QP:units = \"g/kg\" ;\r\n",
      "}\r\n"
     ]
    }
   ],
   "source": [
    "!ncdump -h tropical_subset.nc"
   ]
  },
  {
   "cell_type": "markdown",
   "metadata": {},
   "source": [
    "3.  Read a variable using the netCDF4 module:  http://unidata.github.io/netcdf4-python/"
   ]
  },
  {
   "cell_type": "code",
   "execution_count": 24,
   "metadata": {
    "collapsed": false
   },
   "outputs": [
    {
     "name": "stdout",
     "output_type": "stream",
     "text": [
      "['x', 'y', 'z', 'time', 'p', 'U', 'V', 'W', 'PP', 'TABS', 'QV', 'QN', 'QP']\n",
      "(1, 112, 110, 100)\n",
      "(112, 110, 100)\n",
      "(112,)\n"
     ]
    }
   ],
   "source": [
    "from netCDF4 import Dataset\n",
    "#\n",
    "# the variables attribute returns a dictionary of variables\n",
    "#\n",
    "with Dataset('tropical_subset.nc','r') as nc_in:\n",
    "    print(list(nc_in.variables.keys()))\n",
    "    the_temp=nc_in.variables['TABS'][...]\n",
    "    print(the_temp.shape)\n",
    "    #\n",
    "    # remove the time dimension, since we only have one timestep\n",
    "    #\n",
    "    the_temp=the_temp.squeeze()\n",
    "    print(the_temp.shape)\n",
    "    the_height=nc_in.variables['z'][...]\n",
    "    print(the_height.shape)"
   ]
  },
  {
   "cell_type": "markdown",
   "metadata": {},
   "source": [
    "#Plotting three temperature profiles"
   ]
  },
  {
   "cell_type": "code",
   "execution_count": 32,
   "metadata": {
    "collapsed": false
   },
   "outputs": [
    {
     "data": {
      "text/plain": [
       "[<matplotlib.text.Text at 0x1167356a0>, <matplotlib.text.Text at 0x1168fdb38>]"
      ]
     },
     "execution_count": 32,
     "metadata": {},
     "output_type": "execute_result"
    },
    {
     "data": {
      "image/png": "[encoded data removed]",
      "text/plain": [
       "<matplotlib.figure.Figure at 0x1168257b8>"
      ]
     },
     "metadata": {},
     "output_type": "display_data"
    }
   ],
   "source": [
    "%matplotlib inline\n",
    "#\n",
    "# plot 3 arbitrary columns\n",
    "#\n",
    "from matplotlib import pyplot as plt\n",
    "meter2km=1.e-3\n",
    "random_xy=[(10,20),(80,40),(25,75)]\n",
    "fig,ax=plt.subplots(1,1)\n",
    "for x,y in random_xy:\n",
    "    temp_profile=the_temp[:,x,y]\n",
    "    ax.plot(temp_profile,the_height*meter2km)  \n",
    "ax.set(xlabel='temperature (K)',ylabel='height (km)',title='3 profiles')"
   ]
  },
  {
   "cell_type": "markdown",
   "metadata": {},
   "source": [
    "# Calculate the horizontal average temperature"
   ]
  },
  {
   "cell_type": "code",
   "execution_count": 34,
   "metadata": {
    "collapsed": false
   },
   "outputs": [
    {
     "name": "stdout",
     "output_type": "stream",
     "text": [
      "(112, 110, 100)\n",
      "(112, 110)\n",
      "(112,)\n"
     ]
    }
   ],
   "source": [
    "print(the_temp.shape)\n",
    "xmean=the_temp.mean(axis=2)\n",
    "print(xmean.shape)\n",
    "xymean=xmean.mean(axis=1)\n",
    "print(xymean.shape)"
   ]
  },
  {
   "cell_type": "markdown",
   "metadata": {},
   "source": [
    "#Calculate the temperature pertubation"
   ]
  },
  {
   "cell_type": "code",
   "execution_count": 36,
   "metadata": {
    "collapsed": false
   },
   "outputs": [
    {
     "data": {
      "text/plain": [
       "[<matplotlib.text.Text at 0x1168205f8>,\n",
       " <matplotlib.text.Text at 0x116a6eda0>,\n",
       " <matplotlib.text.Text at 0x1167bb2e8>]"
      ]
     },
     "execution_count": 36,
     "metadata": {},
     "output_type": "execute_result"
    },
    {
     "data": {
      "image/png": "[encoded data removed]",
      "text/plain": [
       "<matplotlib.figure.Figure at 0x116a42a90>"
      ]
     },
     "metadata": {},
     "output_type": "display_data"
    }
   ],
   "source": [
    "fig,ax=plt.subplots(1,1)\n",
    "for x,y in random_xy:\n",
    "    temp_profile=the_temp[:,x,y] - xymean\n",
    "    ax.plot(temp_profile,the_height*meter2km)  \n",
    "ax.set(xlabel='temperature (K)',ylabel='height (km)',title='3 perturbation profiles')"
   ]
  },
  {
   "cell_type": "markdown",
   "metadata": {},
   "source": [
    "#Assignment for Wednesday, Sept. 16: 11am"
   ]
  },
  {
   "cell_type": "markdown",
   "metadata": {},
   "source": [
    "1.  Write a function that takes TABS and p and returns $\\theta$, the potential temperature\n",
    "\n",
    "1.  Make a plot of the vertical profile of $\\overline{w^\\prime \\theta^\\prime}$ vs. z for\n",
    "    this model timestep\n",
    "\n",
    "1.  Upload your version of this notebook to the cloud (Dropbox, googledrive etc.) and\n",
    "    email me a link"
   ]
  },
  {
   "cell_type": "markdown",
   "metadata": {},
   "source": [
    "#Getting started with vapor"
   ]
  },
  {
   "cell_type": "markdown",
   "metadata": {},
   "source": [
    "1. Install vapor per [these instructions](https://www.vapor.ucar.edu/docs/usage/getting-started-vapor)\n",
    "1. Download and unzip the following file:"
   ]
  },
  {
   "cell_type": "code",
   "execution_count": 38,
   "metadata": {
    "collapsed": false
   },
   "outputs": [
    {
     "data": {
      "text/plain": [
       "('tropical.zip', <http.client.HTTPMessage at 0x111eec908>)"
      ]
     },
     "execution_count": 38,
     "metadata": {},
     "output_type": "execute_result"
    }
   ],
   "source": [
    "urllib.request.urlretrieve(\"http://clouds.eos.ubc.ca/~phil/docs/atsc500/tropical.zip\", \n",
    "                           \"tropical.zip\")"
   ]
  },
  {
   "cell_type": "markdown",
   "metadata": {},
   "source": [
    "Start vapor, go to \"Data -> Load dataset into current session\" and see if you get a\n",
    "3-d visualization of TABS"
   ]
  },
  {
   "cell_type": "code",
   "execution_count": null,
   "metadata": {
    "collapsed": true
   },
   "outputs": [],
   "source": []
  }
 ],
 "metadata": {
  "kernelspec": {
   "display_name": "Python 3",
   "language": "python",
   "name": "python3"
  },
  "language_info": {
   "codemirror_mode": {
    "name": "ipython",
    "version": 3
   },
   "file_extension": ".py",
   "mimetype": "text/x-python",
   "name": "python",
   "nbconvert_exporter": "python",
   "pygments_lexer": "ipython3",
   "version": "3.4.3"
  }
 },
 "nbformat": 4,
 "nbformat_minor": 0
}
