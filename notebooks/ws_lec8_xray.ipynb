{
 "cells": [
  {
   "cell_type": "code",
   "execution_count": 82,
   "metadata": {
    "collapsed": false
   },
   "outputs": [],
   "source": [
    "#get 10 files, each is the same timestep for a member of a\n",
    "#10 member ensemble\n",
    "import numpy as np\n",
    "import urllib.request\n",
    "data_download=False\n",
    "if data_download:\n",
    "    root='http://clouds.eos.ubc.ca/~phil/docs/atsc500/dryles'\n",
    "    for i in np.arange(1,11,dtype=np.int):\n",
    "        the_name='mar12014_{:d}_15600.nc'.format(i)\n",
    "        print(the_name)\n",
    "        url='{}/{}'.format(root,the_name)\n",
    "        urllib.request.urlretrieve(url,the_name)\n",
    "           "
   ]
  },
  {
   "cell_type": "markdown",
   "metadata": {},
   "source": [
    "Useful links:\n",
    "\n",
    "We need:\n",
    "\n",
    "* [namedtuples](https://docs.python.org/3/library/collections.html#collections.namedtuple)\n",
    "\n",
    "* [numpy.savez](http://docs.scipy.org/doc/numpy/reference/generated/numpy.savez.html)\n",
    "\n",
    "* [vapor](https://www.vapor.ucar.edu/)\n",
    "\n",
    "* [vapor videos](https://www.youtube.com/channel/UCVSuoneyeZFn4Znxl_jJ70A)\n",
    "\n",
    "* [xray and dask](https://www.continuum.io/content/xray-dask-out-core-labeled-arrays-python)"
   ]
  },
  {
   "cell_type": "markdown",
   "metadata": {},
   "source": [
    "## First load a couple of utility functions"
   ]
  },
  {
   "cell_type": "code",
   "execution_count": 83,
   "metadata": {
    "collapsed": true
   },
   "outputs": [],
   "source": [
    "import glob\n",
    "import xray\n",
    "from matplotlib import pyplot as plt\n",
    "import numpy as np\n",
    "from collections import namedtuple\n",
    "import textwrap\n",
    "\n",
    "def sort_name(name):\n",
    "    \"\"\"\n",
    "      sort the filenames so '10' sorts\n",
    "      last by converting to integers\n",
    "    \"\"\"\n",
    "    front, number, back = name.split('_')\n",
    "    return int(number)\n",
    "\n",
    "\n",
    "def dict_to_nt(the_dict, tupname):\n",
    "    \"\"\"\n",
    "      convert a dictionary into a namedtuple\n",
    "    \"\"\"\n",
    "    # first define the keys as attributes\n",
    "    In_tup = namedtuple(tupname, the_dict.keys())\n",
    "    # then read the key,value pairs in and assign to\n",
    "    # attributes\n",
    "    out_tuple = In_tup(**the_dict)\n",
    "    return out_tuple\n"
   ]
  },
  {
   "cell_type": "markdown",
   "metadata": {},
   "source": [
    "Now use xray to stitch together the 10 ensemble members along a new \"virtual dimenstion\".\n",
    "The variable \"ds\"  is an xray dataset, which controls the reads/writes from the\n",
    "10 netcdf files\n"
   ]
  },
  {
   "cell_type": "code",
   "execution_count": 84,
   "metadata": {
    "collapsed": false
   },
   "outputs": [
    {
     "name": "stdout",
     "output_type": "stream",
     "text": [
      "('wvelprime', 'flux_prof', 'Tprime', 'y', 'theta_pro2', 'theta_p2', 'z', 'flux_prime', 'x')\n"
     ]
    }
   ],
   "source": [
    "the_files = glob.glob('mar*nc')\n",
    "the_files.sort(key=sort_name)\n",
    "\n",
    "#\n",
    "#  put the 10 ensembles together along a new \"ens\" dimension\n",
    "#  using an xray multi-file dataset\n",
    "#\n",
    "#  Checkpointing\n",
    "#\n",
    "#  This is slow, so only do it once, and store the variables\n",
    "#  using np.savez.   Then set firstrun=False and read the \n",
    "#  variables out of the npz file instead of recalculating\n",
    "#\n",
    "#  Store the variables in a namedtuple so we don't have to continually\n",
    "#  be typing in dictionary indices  (too many keystrokes)\n",
    "#\n",
    "#\n",
    "firstrun = False\n",
    "if firstrun:\n",
    "    ds = xray.open_mfdataset(the_files, engine='netcdf4', concat_dim='ens')\n",
    "    # dump the structure\n",
    "    print(ds)\n",
    "    #\n",
    "    #  3-d ensemble average for temp\n",
    "    #\n",
    "    x = ds['x']\n",
    "    y = ds['y']\n",
    "    z = ds['z']\n",
    "    temp = ds['TABS']\n",
    "    pres = ds['p']\n",
    "    Rd = 287  # dry air gas constant  J/kg/K\n",
    "    cp = 1004.  # dry air heat capacity at constant pressure (J/kg/K)\n",
    "    p0 = 1.e5  # reference pressure (Pa)\n",
    "    theta = temp * (p0 / pres )**(Rd/cp)\n",
    "    mean_temp = temp[:, 0, :, :, :].mean(dim='ens')\n",
    "    mean_theta = theta[:, 0, :, :, :].mean(dim='ens')\n",
    "    #\n",
    "    # same for velocity\n",
    "    #\n",
    "    wvel = ds['W']\n",
    "    mean_w = wvel[:, 0, :, :, :].mean(dim='ens')\n",
    "    #\n",
    "    # now look at the perturbation fields for one ensemble\n",
    "    #\n",
    "    wvelprime = wvel[0, 0, :, :, :] - mean_w\n",
    "    Tprime = temp[0, 0, :, :, :] - mean_temp\n",
    "    theta_prime2 = (theta[0, 0, :, :, :] - mean_theta)**2\n",
    "    flux_prime = wvelprime * Tprime\n",
    "    flux_profile = flux_prime.mean(dim='x').mean(dim='y')\n",
    "    theta_profile2 = theta_prime2.mean(dim='x').mean(dim='y')\n",
    "    keep_dict = dict(flux_prof=flux_profile, flux_prime=flux_prime.values,wvelprime=wvelprime.values,\n",
    "                     Tprime=Tprime.values, theta_p2 = theta_prime2, x=x, y=y, z=z,theta_pro2 = theta_profile2)\n",
    "    np.savez('dump.npz', **keep_dict)\n",
    "    var_tup = dict_to_nt(keep_dict, 'vars')\n",
    "    print(var_tup._fields)\n",
    "else:\n",
    "    in_dict = np.load('dump.npz')\n",
    "    var_tup = dict_to_nt(in_dict, 'vars')\n",
    "    print(var_tup._fields)\n"
   ]
  },
  {
   "cell_type": "markdown",
   "metadata": {},
   "source": [
    "## Plotting theta'^2 "
   ]
  },
  {
   "cell_type": "code",
   "execution_count": 85,
   "metadata": {
    "collapsed": false
   },
   "outputs": [
    {
     "name": "stdout",
     "output_type": "stream",
     "text": [
      "<class 'numpy.ndarray'> <class 'numpy.ndarray'>\n"
     ]
    },
    {
     "data": {
      "text/plain": [
       "[<matplotlib.text.Text at 0x7f04d1db67f0>]"
      ]
     },
     "execution_count": 85,
     "metadata": {},
     "output_type": "execute_result"
    },
    {
     "data": {
      "image/png": "[encoded data removed]",
      "text/plain": [
       "<matplotlib.figure.Figure at 0x7f04faa72208>"
      ]
     },
     "metadata": {},
     "output_type": "display_data"
    },
    {
     "data": {
      "image/png": "[encoded data removed]",
      "text/plain": [
       "<matplotlib.figure.Figure at 0x7f04d1eb78d0>"
      ]
     },
     "metadata": {},
     "output_type": "display_data"
    },
    {
     "data": {
      "image/png": "[encoded data removed]",
      "text/plain": [
       "<matplotlib.figure.Figure at 0x7f04d1e05a20>"
      ]
     },
     "metadata": {},
     "output_type": "display_data"
    },
    {
     "data": {
      "image/png": "[encoded data removed]",
      "text/plain": [
       "<matplotlib.figure.Figure at 0x7f04d1de8390>"
      ]
     },
     "metadata": {},
     "output_type": "display_data"
    }
   ],
   "source": [
    "%matplotlib inline\n",
    "plt.style.use('ggplot')\n",
    "fig1, ax1 = plt.subplots(1, 1)\n",
    "ax1.plot(var_tup.theta_pro2, var_tup.z)\n",
    "ax1.set(ylim=[0, 1000], title=\"Ens 0: averaged Theta'^2 profile\",\n",
    "        ylabel='z (m)', xlabel='K')\n",
    "\n",
    "fig2, ax2 = plt.subplots(1, 1)\n",
    "z200 = np.searchsorted(var_tup.z, 200)\n",
    "ax2.hist(var_tup.flux_prime[z200, :, :].flat)\n",
    "ax2.set(title='histogram of kinematic heat flux (K m/s) at z=200 m')\n",
    "\n",
    "fig3, ax3 = plt.subplots(1, 1)\n",
    "ax3.hist(var_tup.wvelprime[z200, :, :].flat)\n",
    "ax3.set(title=\"histogram of wvel' at 200 m\")\n",
    "\n",
    "print (type(var_tup.wvelprime),type(var_tup.theta_p2))\n",
    "\n",
    "fig4, ax4 = plt.subplots(1, 1)\n",
    "ax4.hist(var_tup.theta_p2[z200, :, :].flat)\n",
    "ax4.set(title=\"histogram ot Theta'^2 at z=200 m\")\n",
    "\n"
   ]
  },
  {
   "cell_type": "markdown",
   "metadata": {},
   "source": [
    "# Conditional sampling the flux\n",
    "\n",
    "Write 100 where there is postively buoyant ascending air and 1 everywhere else\""
   ]
  },
  {
   "cell_type": "code",
   "execution_count": 86,
   "metadata": {
    "collapsed": true
   },
   "outputs": [],
   "source": [
    "hit = np.logical_and(var_tup.wvelprime > 0, var_tup.Tprime > 0)\n",
    "\n",
    "pos_buoyant = np.ones_like(var_tup.flux_prime, dtype=np.float32)\n",
    "#pos_buoyant[hit] = var_tup.flux_prime[hit]\n",
    "pos_buoyant[hit] = pos_buoyant[hit]*100."
   ]
  },
  {
   "cell_type": "markdown",
   "metadata": {},
   "source": [
    "# Creating the Block"
   ]
  },
  {
   "cell_type": "code",
   "execution_count": 87,
   "metadata": {
    "collapsed": false
   },
   "outputs": [],
   "source": [
    "block = np.zeros_like(var_tup.theta_p2, dtype=np.float32)\n",
    "block[56:257,24:105,41:142] = 1"
   ]
  },
  {
   "cell_type": "markdown",
   "metadata": {},
   "source": [
    "# writing a vapor vdf file"
   ]
  },
  {
   "cell_type": "markdown",
   "metadata": {},
   "source": [
    "First we need to output the x, y and z coordinates in separate files"
   ]
  },
  {
   "cell_type": "code",
   "execution_count": 88,
   "metadata": {
    "collapsed": false,
    "scrolled": true
   },
   "outputs": [
    {
     "name": "stdout",
     "output_type": "stream",
     "text": [
      "<class 'numpy.ndarray'>\n",
      "<class 'numpy.ndarray'>\n",
      "<class 'numpy.ndarray'>\n"
     ]
    }
   ],
   "source": [
    "filenames = ['xvals.txt', 'yvals.txt', 'zvals.txt']\n",
    "arrays = [var_tup.x, var_tup.y, var_tup.z]\n",
    "for name, vals in zip(filenames, arrays):\n",
    "    print (type(vals))\n",
    "    with open(name, 'w') as outfile:\n",
    "        #\n",
    "        # write all but the last without a newline\n",
    "        #\n",
    "        [outfile.write('{:6.3f} '.format(item)) for item in vals[:-1]]\n",
    "        #\n",
    "        # write the last value with a newline\n",
    "        #\n",
    "        outfile.write('{:6.3f}\\n'.format(vals[-1]))\n",
    "    "
   ]
  },
  {
   "cell_type": "markdown",
   "metadata": {},
   "source": [
    "# Writing bouancy, theta'^2 and, the arbitrary column"
   ]
  },
  {
   "cell_type": "code",
   "execution_count": 93,
   "metadata": {
    "collapsed": false
   },
   "outputs": [
    {
     "name": "stdout",
     "output_type": "stream",
     "text": [
      "writing an array of buoyancy of shape x,y,z= 192x128x312\n",
      "writing an array of Theta of shape x,y,z= 192x128x312\n",
      "writing an array of column of shape x,y,z= 192x128x312\n"
     ]
    }
   ],
   "source": [
    "varname1 = 'buoyancy'\n",
    "varname2 = \"Theta\"\n",
    "varname3 = 'column'\n",
    "\n",
    "out_name = '{}.bin'.format(varname1)\n",
    "rev_shape = pos_buoyant.shape[::-1]\n",
    "string_shape=\"{}x{}x{}\".format(*rev_shape)\n",
    "print('writing an array of {} of shape x,y,z= {}'.format(varname1,string_shape))\n",
    "fp = np.memmap(out_name, dtype=np.float32,\n",
    "               mode='w+', shape=pos_buoyant.shape)\n",
    "fp[...] = pos_buoyant[...]\n",
    "\n",
    "\n",
    "out_name = '{}.bin'.format(varname2)\n",
    "rev_shape = var_tup.theta_p2.shape[::-1]\n",
    "string_shape=\"{}x{}x{}\".format(*rev_shape)\n",
    "print('writing an array of {} of shape x,y,z= {}'.format(varname2,string_shape))\n",
    "fp = np.memmap(out_name, dtype=np.float32,\n",
    "               mode='w+', shape=var_tup.theta_p2.shape)\n",
    "fp[...] = var_tup.theta_p2[...]\n",
    "\n",
    "out_name = '{}.bin'.format(varname3)\n",
    "rev_shape = block.shape[::-1]\n",
    "string_shape=\"{}x{}x{}\".format(*rev_shape)\n",
    "print('writing an array of {} of shape x,y,z= {}'.format(varname3,string_shape))\n",
    "fp = np.memmap(out_name, dtype=np.float32,\n",
    "               mode='w+', shape=block.shape)\n",
    "fp[...] = block[...]\n",
    "\n"
   ]
  },
  {
   "cell_type": "markdown",
   "metadata": {},
   "source": [
    "# Tried to write one raw2vdf command that did all three variables, but couldn't get it to work so i just did it the long way"
   ]
  },
  {
   "cell_type": "code",
   "execution_count": 96,
   "metadata": {
    "collapsed": false
   },
   "outputs": [],
   "source": [
    " vars=dict(dim=string_shape,var1='buoyancy',var2='Theta',var3='column',name='Three_vars')\n",
    "    \n",
    "command=r\"\"\"\n",
    "    vdfcreate  -xcoords xvals.txt -ycoords yvals.txt -zcoords zvals.txt \\\n",
    "       -gridtype stretched -dimension {dim:s} -vars3d {var1:s}:{var2:s}:{var3:s} -numts 1 {name:s}.vdf  \n",
    "\n",
    "    raw2vdf -varname {var1:s} -ts 0 {name:s}.vdf {var1:s}.bin \n",
    "    raw2vdf -varname {var2:s} -ts 0 {name:s}.vdf {var2:s}.bin\n",
    "    raw2vdf -varname {var3:s} -ts 0 {name:s}.vdf {var3:s}.bin\n",
    "\"\"\"\n",
    "out=textwrap.dedent(command.format_map(vars))\n",
    "with open('make_vapor.sh','w') as f:\n",
    "    f.write('#!/bin/bash -v\\n')\n",
    "    f.write(out)"
   ]
  },
  {
   "cell_type": "code",
   "execution_count": 97,
   "metadata": {
    "collapsed": false
   },
   "outputs": [
    {
     "name": "stdout",
     "output_type": "stream",
     "text": [
      "#!/bin/bash -v\r\n",
      "\r\n",
      "vdfcreate  -xcoords xvals.txt -ycoords yvals.txt -zcoords zvals.txt \\\r\n",
      "   -gridtype stretched -dimension 192x128x312 -vars3d buoyancy:Theta -numts 1 Three_vars.vdf  \r\n",
      "\r\n",
      "raw2vdf -varname buoyancy -ts 0 Three_vars.vdf buoyancy.bin \r\n",
      "raw2vdf -varname Theta -ts 0 Three_vars.vdf Theta.bin\r\n"
     ]
    }
   ],
   "source": [
    "!cat nu_make_vapor.sh"
   ]
  },
  {
   "cell_type": "markdown",
   "metadata": {},
   "source": [
    "Now open a terminal (osx) or a bash-shell (windows) and setup the path for vapor\n",
    "following these [osx instructions](https://www.vapor.ucar.edu/docs/vapor-installation/vapor-mac-binary-installation) or these\n",
    "[windows instructions]( https://www.vapor.ucar.edu/docs/vapor-installation/vapor-windows-binary-installation)\n",
    "\n",
    "Once you've done this, vdfcreate and raw2vdf should be in our path, and\n",
    "you should  be able to do:\n",
    "\n",
    "```bash\n",
    "> bash make_vapor.sh\n",
    "```\n",
    "\n",
    "If this works, there should be a new file called\n",
    "\n",
    "  buoyancy.vdf\n",
    "  \n",
    "and a new folder called\n",
    "\n",
    "  buoyancy_data\n",
    "  \n",
    "Now executate\n",
    "\n",
    "  vaporgui\n",
    "  \n",
    "from the same terminal"
   ]
  },
  {
   "cell_type": "code",
   "execution_count": null,
   "metadata": {
    "collapsed": true
   },
   "outputs": [],
   "source": []
  }
 ],
 "metadata": {
  "kernelspec": {
   "display_name": "Python 3",
   "language": "python",
   "name": "python3"
  },
  "language_info": {
   "codemirror_mode": {
    "name": "ipython",
    "version": 3
   },
   "file_extension": ".py",
   "mimetype": "text/x-python",
   "name": "python",
   "nbconvert_exporter": "python",
   "pygments_lexer": "ipython3",
   "version": "3.4.3"
  }
 },
 "nbformat": 4,
 "nbformat_minor": 0
}
