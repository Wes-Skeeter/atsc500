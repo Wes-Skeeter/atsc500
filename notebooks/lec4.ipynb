{
 "cells": [
  {
   "cell_type": "markdown",
   "metadata": {},
   "source": [
    "# Day 4 notebook"
   ]
  },
  {
   "cell_type": "markdown",
   "metadata": {},
   "source": [
    "## Solution for Day 3 assignment from Monday, Sept. 21"
   ]
  },
  {
   "cell_type": "code",
   "execution_count": 28,
   "metadata": {
    "collapsed": false
   },
   "outputs": [],
   "source": [
    "#get 10 files, each is the same timestep for a member of a\n",
    "#10 member ensemble\n",
    "data_download=False\n",
    "if data_download:\n",
    "    root='http://clouds.eos.ubc.ca/~phil/docs/atsc500/dryles'\n",
    "    for i in np.arange(1,11,dtype=np.int):\n",
    "        the_name='mar12014_{:d}_15600.nc'.format(i)\n",
    "        print(the_name)\n",
    "        url='{}/{}'.format(root,the_name)\n",
    "        urllib.request.urlretrieve(url,the_name)\n",
    "           "
   ]
  },
  {
   "cell_type": "markdown",
   "metadata": {},
   "source": [
    "1. Hand in a notebook that\n",
    "\n",
    "   1. plots the ensemble average theta profile for 1 column, and the ensemble averaged vertical heat flux\n",
    "      in Watts/m^2 through the bottom model layer.\n",
    "      \n",
    "   1. histogram the normalized pressure perturbation $p^\\prime/p(z)$ for 1 ensemble member\n",
    "   \n",
    "2. Read the rest of Stull chapter 2 and do problem 8 if you haven't already"
   ]
  },
  {
   "cell_type": "code",
   "execution_count": 11,
   "metadata": {
    "collapsed": true
   },
   "outputs": [],
   "source": [
    "import numpy as np\n",
    "from matplotlib import pyplot as plt\n",
    "from netCDF4 import Dataset\n",
    "import glob\n",
    "\n",
    "#\n",
    "# use this function to sort filenames in numerical order\n",
    "#\n",
    "def sort_name(name):\n",
    "    #\n",
    "    # filename looks like mar12014_10_15600.nc\n",
    "    # so line below produces number='10'\n",
    "    #\n",
    "    front, number, back = name.split('_')\n",
    "    return int(number)"
   ]
  },
  {
   "cell_type": "code",
   "execution_count": 12,
   "metadata": {
    "collapsed": true
   },
   "outputs": [],
   "source": [
    "def theta(p, T):\n",
    "    \"\"\"\n",
    "      input: p (Pa), scalar pressure\n",
    "             T (K),  scalar or array of temperatures\n",
    "      output: thetaval (K) potential temperature\n",
    "    \"\"\"\n",
    "    Rd = 287  # dry air gas constant  J/kg/K\n",
    "    cp = 1004.  # dry air heat capacity at constant pressure (J/kg/K)\n",
    "    p0 = 1.e5  # reference pressure (Pa)\n",
    "    the_exp = Rd / cp\n",
    "    thetaval = T * (p0 / p)**the_exp\n",
    "    return thetaval"
   ]
  },
  {
   "cell_type": "markdown",
   "metadata": {},
   "source": [
    "1. Gather all 10 filenames and save them to a list, reading out z and p from\n",
    "   the first file, since these are the same in all 10 members"
   ]
  },
  {
   "cell_type": "code",
   "execution_count": 13,
   "metadata": {
    "collapsed": false
   },
   "outputs": [
    {
     "name": "stdout",
     "output_type": "stream",
     "text": [
      "['mar12014_10_15600.nc', 'mar12014_1_15600.nc', 'mar12014_2_15600.nc', 'mar12014_3_15600.nc', 'mar12014_4_15600.nc', 'mar12014_5_15600.nc', 'mar12014_6_15600.nc', 'mar12014_7_15600.nc', 'mar12014_8_15600.nc', 'mar12014_9_15600.nc']\n"
     ]
    }
   ],
   "source": [
    "the_files = glob.glob('mar*nc')\n",
    "print(the_files)\n",
    "the_files.sort(key=sort_name)\n",
    "save_nc = []\n",
    "for count, filename in enumerate(the_files):\n",
    "    save_nc.append(Dataset(filename, 'r'))\n",
    "z = save_nc[0].variables['z'][...]\n",
    "p = save_nc[0].variables['p'][...] * 100."
   ]
  },
  {
   "cell_type": "markdown",
   "metadata": {},
   "source": [
    "2\\. read the temperature ffrom one cell for all 10 files, calculate the $\\theta$ and\n",
    "    average the 10 together"
   ]
  },
  {
   "cell_type": "code",
   "execution_count": 14,
   "metadata": {
    "collapsed": false
   },
   "outputs": [],
   "source": [
    "#\n",
    "# first find the average theta profile for one cell\n",
    "#\n",
    "xcoord, ycoord = (20, 40)\n",
    "theta_accum = np.zeros_like(z)\n",
    "for the_nc in save_nc:\n",
    "    the_temps = the_nc.variables['TABS'][0, :, ycoord, xcoord]\n",
    "    theta_vals = []\n",
    "    for the_p, the_temp in zip(p, the_temps):\n",
    "        theta_vals.append(theta(the_p, the_temp))\n",
    "    theta_vals = np.array(theta_vals)\n",
    "    theta_accum += theta_vals\n",
    "theta_avg = theta_accum / len(save_nc)"
   ]
  },
  {
   "cell_type": "markdown",
   "metadata": {},
   "source": [
    "## Q1 answer: plot of $\\langle \\theta(z) \\rangle$"
   ]
  },
  {
   "cell_type": "code",
   "execution_count": 27,
   "metadata": {
    "collapsed": false
   },
   "outputs": [
    {
     "data": {
      "image/png": "[encoded data removed]",
      "text/plain": [
       "<matplotlib.figure.Figure at 0x109006908>"
      ]
     },
     "metadata": {},
     "output_type": "display_data"
    }
   ],
   "source": [
    "%matplotlib inline\n",
    "plt.style.use('ggplotb')\n",
    "fig, ax = plt.subplots(1, 1,figsize=(6,6))\n",
    "ax.plot(theta_avg, z)\n",
    "ax.set(ylim=(0, 600), xlim=(300, 310))\n",
    "out=ax.set(title=r'ensemble average $\\theta(z)$',xlabel=r'$\\theta (K)$',\n",
    "       ylabel='height (m)')"
   ]
  },
  {
   "cell_type": "markdown",
   "metadata": {},
   "source": [
    "## Q2 answer: vertical heat flux at z=200 m"
   ]
  },
  {
   "cell_type": "code",
   "execution_count": 31,
   "metadata": {
    "collapsed": false
   },
   "outputs": [
    {
     "name": "stdout",
     "output_type": "stream",
     "text": [
      "\n",
      "    Q2 answer:  the heat flux at 200.0 is 29.90 W/m^2\n",
      "\n"
     ]
    }
   ],
   "source": [
    "#\n",
    "# now find the average heat flux through z[7] = 200 meters\n",
    "#\n",
    "flux = 0\n",
    "for the_nc in save_nc:\n",
    "    the_temps = the_nc.variables['TABS'][0, 7, :, :]\n",
    "    the_w = the_nc.variables['W'][0, 7, :, :]\n",
    "    T_bar = the_temps.mean()\n",
    "    W_bar = the_w.mean()\n",
    "    T_prime = the_temps - T_bar\n",
    "    W_prime = the_w - W_bar\n",
    "    flux += (T_prime * W_prime).mean()\n",
    "flux = flux / len(save_nc)\n",
    "Rd = 287.  # J/kg/K\n",
    "cp = 1004.  # J/kg/K\n",
    "rho = p[7] / (Rd * T_bar)\n",
    "flux = rho * cp * flux\n",
    "#\n",
    "# show how to use a dictionary and format_map to place\n",
    "# values in a string template\n",
    "#\n",
    "answer=\"\"\"\n",
    "    Q2 answer:  the heat flux at {height} is {flux:5.2f} W/m^2\n",
    "\"\"\"\n",
    "values=dict(height=z[7],flux=flux)\n",
    "print(answer.format_map(values))"
   ]
  },
  {
   "cell_type": "markdown",
   "metadata": {},
   "source": [
    "## Q3 answer: normalized pressure perturbation\n",
    "(range is $-7 \\times 10^{-6} \\rightarrow +7 \\times 10^{-6}$ )"
   ]
  },
  {
   "cell_type": "code",
   "execution_count": 37,
   "metadata": {
    "collapsed": false
   },
   "outputs": [
    {
     "data": {
      "image/png": "[encoded data removed]",
      "text/plain": [
       "<matplotlib.figure.Figure at 0x11c80ab00>"
      ]
     },
     "metadata": {},
     "output_type": "display_data"
    }
   ],
   "source": [
    "#\n",
    "# histogram the normailzed pressure perturbation for one ensemble member\n",
    "#\n",
    "the_pp = save_nc[0].variables['PP'][0, :, :, :]\n",
    "for index,the_pres in enumerate(p):\n",
    "    the_pp[index,:,:]=the_pp[index,:,:]/p[index]\n",
    "\n",
    "fig, ax = plt.subplots(1, 1)\n",
    "ax.hist((the_pp*1.e6).flat,bins=linspace(-7,7,20))\n",
    "out=ax.set(title='normalize pressure perturbation',xlabel=r'PP/p(z) $\\times 10^6$',\n",
    "       ylabel='number of cells in each bin')\n",
    "        "
   ]
  },
  {
   "cell_type": "markdown",
   "metadata": {},
   "source": [
    "## Stull problem 8"
   ]
  },
  {
   "cell_type": "markdown",
   "metadata": {},
   "source": [
    "enthaply flux through bottom of layer:  "
   ]
  },
  {
   "cell_type": "code",
   "execution_count": 1,
   "metadata": {
    "collapsed": false
   },
   "outputs": [
    {
     "name": "stdout",
     "output_type": "stream",
     "text": [
      "net heating is   3.6 K/hour\n"
     ]
    }
   ],
   "source": [
    "cpd=1004.\n",
    "rho=1\n",
    "h_flux_bot=rho*0.2*cpd\n",
    "h_flux_top=rho*0.1*cpd\n",
    "net_heating=h_flux_bot-h_flux_top  #W/m^2\n",
    "delta_z=100  #meters\n",
    "total_mass=rho*delta_z  #kg/m^2\n",
    "dT_dt=net_heating/(total_mass*cpd)*3600 #K/hour  \n",
    "print('net heating is {:5.1f} K/hour'.format(dT_dt))"
   ]
  },
  {
   "cell_type": "code",
   "execution_count": null,
   "metadata": {
    "collapsed": true
   },
   "outputs": [],
   "source": []
  }
 ],
 "metadata": {
  "kernelspec": {
   "display_name": "Python 3",
   "language": "python",
   "name": "python3"
  },
  "language_info": {
   "codemirror_mode": {
    "name": "ipython",
    "version": 3
   },
   "file_extension": ".py",
   "mimetype": "text/x-python",
   "name": "python",
   "nbconvert_exporter": "python",
   "pygments_lexer": "ipython3",
   "version": "3.4.3"
  }
 },
 "nbformat": 4,
 "nbformat_minor": 0
}
