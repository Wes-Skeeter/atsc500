{
 "cells": [
  {
   "cell_type": "markdown",
   "metadata": {},
   "source": [
    "# Revised lec3 notebook Sept. 19"
   ]
  },
  {
   "cell_type": "markdown",
   "metadata": {},
   "source": [
    "*I changed indexing below for the mean theta and wvel calculations and removed\n",
    "the newaxis complication.   The dimensions of the velocity and temperature\n",
    "are (time,z,y,x)  or axis=(0,1,2,3).  Hopefully the sensible heat flux profile is correct\n",
    "(it's much smaller than for a dry boundary layer, because most of the energy is being\n",
    "transported by vapor in the tropical marine boundary layer*"
   ]
  },
  {
   "cell_type": "markdown",
   "metadata": {},
   "source": [
    "## Reading a netcdf file"
   ]
  },
  {
   "cell_type": "markdown",
   "metadata": {},
   "source": [
    "1.  Fetch the netcdf file tropical.nc from my webserver (50 Mbytes)"
   ]
  },
  {
   "cell_type": "code",
   "execution_count": 78,
   "metadata": {
    "collapsed": true
   },
   "outputs": [],
   "source": [
    "import urllib.request\n",
    "import numpy as np\n",
    "from netCDF4 import Dataset"
   ]
  },
  {
   "cell_type": "markdown",
   "metadata": {},
   "source": [
    "Only download the data once -- set this to True if you need\n",
    "this file, otherwise skip"
   ]
  },
  {
   "cell_type": "code",
   "execution_count": 79,
   "metadata": {
    "collapsed": true
   },
   "outputs": [],
   "source": [
    "data_download=False  ### set this to True if running for the first time\n",
    "if data_download:\n",
    "    urllib.request.urlretrieve(\"http://clouds.eos.ubc.ca/~phil/docs/atsc500/tropical_subset.nc\", \n",
    "                           \"tropical_subset.nc\")"
   ]
  },
  {
   "cell_type": "markdown",
   "metadata": {},
   "source": [
    "2\\.  Identify the file structure using ncdump"
   ]
  },
  {
   "cell_type": "code",
   "execution_count": 80,
   "metadata": {
    "collapsed": false
   },
   "outputs": [
    {
     "name": "stdout",
     "output_type": "stream",
     "text": [
      "<class 'netCDF4._netCDF4.Dataset'>\r\n",
      "root group (NETCDF4 data model, file format UNDEFINED):\r\n",
      "    dimensions(sizes): x(100), y(110), z(112), time(1)\r\n",
      "    variables(dimensions): float32 \u001b[4mx\u001b[0m(x), float32 \u001b[4my\u001b[0m(y), float32 \u001b[4mz\u001b[0m(z), float32 \u001b[4mtime\u001b[0m(time), float32 \u001b[4mp\u001b[0m(z), float32 \u001b[4mU\u001b[0m(time,z,y,x), float32 \u001b[4mV\u001b[0m(time,z,y,x), float32 \u001b[4mW\u001b[0m(time,z,y,x), float32 \u001b[4mPP\u001b[0m(time,z,y,x), float32 \u001b[4mTABS\u001b[0m(time,z,y,x), float32 \u001b[4mQV\u001b[0m(time,z,y,x), float32 \u001b[4mQN\u001b[0m(time,z,y,x), float32 \u001b[4mQP\u001b[0m(time,z,y,x)\r\n",
      "    groups: \r\n",
      "\r\n"
     ]
    }
   ],
   "source": [
    "!ncinfo tropical_subset.nc"
   ]
  },
  {
   "cell_type": "markdown",
   "metadata": {},
   "source": [
    "3\\.  Read a variable using the netCDF4 module:  http://unidata.github.io/netcdf4-python/"
   ]
  },
  {
   "cell_type": "code",
   "execution_count": 81,
   "metadata": {
    "collapsed": false
   },
   "outputs": [
    {
     "name": "stdout",
     "output_type": "stream",
     "text": [
      "['x', 'y', 'z', 'time', 'p', 'U', 'V', 'W', 'PP', 'TABS', 'QV', 'QN', 'QP']\n",
      "temp shape (1, 112, 110, 100)\n",
      "height shape (112,)\n"
     ]
    }
   ],
   "source": [
    "with Dataset('tropical_subset.nc','r') as nc_in:\n",
    "    print(list(nc_in.variables.keys()))\n",
    "    the_temp=nc_in.variables['TABS'][...]  \n",
    "    #\n",
    "    # remove the time dimension since we only have one timestep\n",
    "    #   \n",
    "    print('temp shape',the_temp.shape)\n",
    "    the_height=nc_in.variables['z'][...]\n",
    "    print('height shape',the_height.shape)\n",
    "    the_press=nc_in.variables['p'][...]\n",
    "    the_press=the_press*100.  #convert to Pa\n",
    "    wvel=nc_in.variables['W'][...]"
   ]
  },
  {
   "cell_type": "markdown",
   "metadata": {},
   "source": [
    "# Plotting three temperature profiles"
   ]
  },
  {
   "cell_type": "code",
   "execution_count": 82,
   "metadata": {
    "collapsed": false
   },
   "outputs": [
    {
     "data": {
      "image/png": "[encoded data removed]",
      "text/plain": [
       "<matplotlib.figure.Figure at 0x10fe53e48>"
      ]
     },
     "metadata": {},
     "output_type": "display_data"
    }
   ],
   "source": [
    "%matplotlib inline\n",
    "#\n",
    "# plot 3 arbitrary columns\n",
    "#\n",
    "from matplotlib import pyplot as plt\n",
    "meter2km=1.e-3\n",
    "random_xy=[(10,20),(80,40),(25,75)]\n",
    "fig,ax=plt.subplots(1,1)\n",
    "for x,y in random_xy:\n",
    "    temp_profile=the_temp[0,:,x,y]\n",
    "    out=ax.plot(temp_profile,the_height*meter2km)  \n",
    "out=ax.set(xlabel='temperature (K)',ylabel='height (km)',title='3 profiles')"
   ]
  },
  {
   "cell_type": "markdown",
   "metadata": {},
   "source": [
    "# Calculate the horizontal average temperature"
   ]
  },
  {
   "cell_type": "code",
   "execution_count": 83,
   "metadata": {
    "collapsed": false
   },
   "outputs": [
    {
     "name": "stdout",
     "output_type": "stream",
     "text": [
      "(1, 112, 110)\n",
      "(112,)\n"
     ]
    }
   ],
   "source": [
    "xmean=the_temp.mean(axis=3)\n",
    "print(xmean.shape)\n",
    "xymean=xmean.mean(axis=2)\n",
    "xymean=xymean.squeeze()\n",
    "print(xymean.shape)"
   ]
  },
  {
   "cell_type": "markdown",
   "metadata": {},
   "source": [
    "# Calculate the temperature pertubation"
   ]
  },
  {
   "cell_type": "code",
   "execution_count": 84,
   "metadata": {
    "collapsed": false
   },
   "outputs": [
    {
     "data": {
      "text/plain": [
       "[<matplotlib.text.Text at 0x1119ec470>,\n",
       " <matplotlib.text.Text at 0x10fd0d8d0>,\n",
       " <matplotlib.text.Text at 0x11280e0b8>]"
      ]
     },
     "execution_count": 84,
     "metadata": {},
     "output_type": "execute_result"
    },
    {
     "data": {
      "image/png": "[encoded data removed]",
      "text/plain": [
       "<matplotlib.figure.Figure at 0x111967518>"
      ]
     },
     "metadata": {},
     "output_type": "display_data"
    }
   ],
   "source": [
    "fig,ax=plt.subplots(1,1)\n",
    "for x,y in random_xy:\n",
    "    temp_profile=the_temp[0,:,x,y] - xymean\n",
    "    ax.plot(temp_profile,the_height*meter2km)  \n",
    "ax.set(xlabel='temperature (K)',ylabel='height (km)',title='3 perturbation profiles')"
   ]
  },
  {
   "cell_type": "markdown",
   "metadata": {},
   "source": [
    "# Assignment for Wednesday, Sept. 16: 11am"
   ]
  },
  {
   "cell_type": "markdown",
   "metadata": {},
   "source": [
    "1.  Write a function that takes TABS and p and returns $\\theta$, the potential temperature\n",
    "\n",
    "1.  Make a plot of the vertical profile of $\\overline{w^\\prime \\theta^\\prime}$ vs. z for\n",
    "    this model timestep\n",
    "\n",
    "1.  Upload your version of this notebook to the cloud (Dropbox, googledrive etc.) and\n",
    "    email me a link"
   ]
  },
  {
   "cell_type": "markdown",
   "metadata": {},
   "source": [
    "## My solution"
   ]
  },
  {
   "cell_type": "code",
   "execution_count": 85,
   "metadata": {
    "collapsed": true
   },
   "outputs": [],
   "source": [
    "def theta(p,T):\n",
    "    \"\"\"\n",
    "      input: p (Pa), scalar pressure\n",
    "             T (K),  scalar or array of temperatures\n",
    "      output: thetaval (K) potential temperature\n",
    "    \"\"\"\n",
    "    Rd=287  #dry air gas constant  J/kg/K\n",
    "    cp=1004.  #dry air heat capacity at constant pressure (J/kg/K)\n",
    "    p0=1.e5  #reference pressure (Pa)\n",
    "    the_exp=Rd/cp\n",
    "    thetaval=T*(p0/p)**the_exp\n",
    "    return thetaval\n"
   ]
  },
  {
   "cell_type": "markdown",
   "metadata": {},
   "source": [
    "### Calculate $\\theta$ at every level"
   ]
  },
  {
   "cell_type": "code",
   "execution_count": 86,
   "metadata": {
    "collapsed": false
   },
   "outputs": [],
   "source": [
    "thetavals=np.empty_like(the_temp)\n",
    "for lev,press_lev in enumerate(the_press):\n",
    "    thetavals[0,lev,:,:]=theta(press_lev,the_temp[0,lev,:,:])   "
   ]
  },
  {
   "cell_type": "markdown",
   "metadata": {},
   "source": [
    "### Plot some profiles"
   ]
  },
  {
   "cell_type": "code",
   "execution_count": 87,
   "metadata": {
    "collapsed": false
   },
   "outputs": [
    {
     "data": {
      "text/plain": [
       "[<matplotlib.text.Text at 0x111a542b0>,\n",
       " <matplotlib.text.Text at 0x110597ba8>,\n",
       " <matplotlib.text.Text at 0x11280aeb8>]"
      ]
     },
     "execution_count": 87,
     "metadata": {},
     "output_type": "execute_result"
    },
    {
     "data": {
      "image/png": "[encoded data removed]",
      "text/plain": [
       "<matplotlib.figure.Figure at 0x11053f400>"
      ]
     },
     "metadata": {},
     "output_type": "display_data"
    }
   ],
   "source": [
    "fig,ax=plt.subplots(1,1)\n",
    "for x,y in random_xy:\n",
    "    theta_profile=thetavals[0,:,x,y]\n",
    "    ax.plot(theta_profile,the_height*meter2km)  \n",
    "ax.set(xlabel='potential temperature (K)',ylabel='height (km)',title='3 profiles')"
   ]
  },
  {
   "cell_type": "markdown",
   "metadata": {},
   "source": [
    "### Subtract average using numpy broadcasting"
   ]
  },
  {
   "cell_type": "markdown",
   "metadata": {},
   "source": [
    "Find the perturbation wrt the mean theta at each height.  Because of Python's broadcasting\n",
    "rules ([broadcasting](http://docs.scipy.org/doc/numpy/user/basics.broadcasting.html)) we can't\n",
    "subtract a (1,112,110,100) and a (112,) array.  Numpy will let us subtract a\n",
    "(100,110,112) and a (112,) array  so we:\n",
    "\n",
    "1) squeeze wvel to (112,110,100)\n",
    "\n",
    "2) transpose to (100,110,112)\n",
    "\n",
    "3) subtract the mean theta \n",
    "\n",
    "4) transpose back"
   ]
  },
  {
   "cell_type": "code",
   "execution_count": 88,
   "metadata": {
    "collapsed": false
   },
   "outputs": [
    {
     "name": "stdout",
     "output_type": "stream",
     "text": [
      "(112, 110, 100)\n"
     ]
    }
   ],
   "source": [
    "w_bar=wvel[0,...].mean(axis=2).mean(axis=1)\n",
    "wvel_squeeze=wvel.squeeze()\n",
    "w_prime= wvel_squeeze.T - w_bar\n",
    "w_prime=w_prime.T\n",
    "print(w_prime.shape)"
   ]
  },
  {
   "cell_type": "code",
   "execution_count": 89,
   "metadata": {
    "collapsed": false
   },
   "outputs": [
    {
     "name": "stdout",
     "output_type": "stream",
     "text": [
      "(112, 110, 100)\n"
     ]
    }
   ],
   "source": [
    "theta_bar=thetavals[0,...].mean(axis=2).mean(axis=1)\n",
    "thetavals_squeeze=thetavals.squeeze()\n",
    "theta_prime= thetavals_squeeze.T - theta_bar\n",
    "theta_prime=theta_prime.T\n",
    "print(theta_prime.shape)"
   ]
  },
  {
   "cell_type": "code",
   "execution_count": 90,
   "metadata": {
    "collapsed": false
   },
   "outputs": [
    {
     "name": "stdout",
     "output_type": "stream",
     "text": [
      "(112, 110, 100)\n",
      "(112,)\n"
     ]
    }
   ],
   "source": [
    "flux=w_prime*theta_prime\n",
    "print(flux.shape)\n",
    "flux_profile=flux.mean(axis=2).mean(axis=1)\n",
    "print(flux_profile.shape)"
   ]
  },
  {
   "cell_type": "code",
   "execution_count": 91,
   "metadata": {
    "collapsed": false
   },
   "outputs": [
    {
     "data": {
      "image/png": "[encoded data removed]",
      "text/plain": [
       "<matplotlib.figure.Figure at 0x112874cc0>"
      ]
     },
     "metadata": {},
     "output_type": "display_data"
    }
   ],
   "source": [
    "fig,ax=plt.subplots(1,1)\n",
    "out=ax.plot(flux_profile,the_height*meter2km)\n",
    "out=ax.set(xlabel='potential temperature flux (K m/s)',ylabel='height (km)',title='theta flux')"
   ]
  },
  {
   "cell_type": "markdown",
   "metadata": {},
   "source": [
    "### convert kinematic flux to W/m^2\n",
    "\n",
    "1.  Calculate the the density profile using the ideal gas law\n",
    "\n",
    "$$p = \\rho R_d T$$"
   ]
  },
  {
   "cell_type": "code",
   "execution_count": 92,
   "metadata": {
    "collapsed": false
   },
   "outputs": [
    {
     "data": {
      "image/png": "[encoded data removed]",
      "text/plain": [
       "<matplotlib.figure.Figure at 0x111a08198>"
      ]
     },
     "metadata": {},
     "output_type": "display_data"
    }
   ],
   "source": [
    "Rd=287 #J/kg/K\n",
    "rho=the_press/(Rd*xymean)\n",
    "fig,ax=plt.subplots(1,1,figsize=(6,6))\n",
    "out=ax.plot(rho,the_height*meter2km)\n",
    "out=ax.set(xlabel=r'$\\rho\\ (kg/m^3)$',ylabel='height (km)',title='density of dry air')"
   ]
  },
  {
   "cell_type": "markdown",
   "metadata": {},
   "source": [
    "2\\.  Calculate the enthalpy flux in $W m^2$ using\n",
    "\n",
    "$$\\rho \\overline{w^\\prime h^\\prime} = \\rho c_{pd} \\left( \\overline{w^\\prime T^\\prime} \\right ) \\approx \\rho c_{pd} \\left( \\overline{w^\\prime \\theta^\\prime} \\right ) $$\n",
    "\n",
    "\n",
    "\n"
   ]
  },
  {
   "cell_type": "code",
   "execution_count": 93,
   "metadata": {
    "collapsed": false
   },
   "outputs": [
    {
     "data": {
      "image/png": "[encoded data removed]",
      "text/plain": [
       "<matplotlib.figure.Figure at 0x112671a90>"
      ]
     },
     "metadata": {},
     "output_type": "display_data"
    }
   ],
   "source": [
    "cpd=1004.  #J/kg/K\n",
    "flux=cpd*rho*flux_profile\n",
    "fig,ax=plt.subplots(1,1)\n",
    "ax.plot(flux,the_height*meter2km)\n",
    "ax.set(xlabel='sensible heat flux (W/m^2)',ylabel='height (km)',title='heat flux')\n",
    "out=ax.set(ylim=(0,2))"
   ]
  },
  {
   "cell_type": "markdown",
   "metadata": {},
   "source": [
    "# Next: Getting started with vapor"
   ]
  },
  {
   "cell_type": "markdown",
   "metadata": {},
   "source": [
    "1. Install vapor per [these instructions](https://www.vapor.ucar.edu/docs/usage/getting-started-vapor)\n",
    "1. Download and unzip the following file:"
   ]
  },
  {
   "cell_type": "code",
   "execution_count": 94,
   "metadata": {
    "collapsed": false
   },
   "outputs": [
    {
     "data": {
      "text/plain": [
       "('tropical.zip', <http.client.HTTPMessage at 0x112671d30>)"
      ]
     },
     "execution_count": 94,
     "metadata": {},
     "output_type": "execute_result"
    }
   ],
   "source": [
    "urllib.request.urlretrieve(\"http://clouds.eos.ubc.ca/~phil/docs/atsc500/tropical.zip\", \n",
    "                           \"tropical.zip\")"
   ]
  },
  {
   "cell_type": "markdown",
   "metadata": {},
   "source": [
    "Start vapor, go to \"Data -> Load dataset into current session\" and see if you get a\n",
    "3-d visualization of TABS"
   ]
  },
  {
   "cell_type": "markdown",
   "metadata": {},
   "source": [
    "###Getting a ten member ensemble for the dry boundary layer les"
   ]
  },
  {
   "cell_type": "markdown",
   "metadata": {},
   "source": [
    "# Assignment for Monday, Sept. 21"
   ]
  },
  {
   "cell_type": "code",
   "execution_count": 96,
   "metadata": {
    "collapsed": false
   },
   "outputs": [],
   "source": [
    "#get 10 files, each is the same timestep for a member of a\n",
    "#10 member ensemble\n",
    "if data_download:\n",
    "    root='http://clouds.eos.ubc.ca/~phil/docs/atsc500/dryles'\n",
    "    for i in np.arange(1,11,dtype=np.int):\n",
    "        the_name='mar12014_{:d}_15600.nc'.format(i)\n",
    "        print(the_name)\n",
    "        url='{}/{}'.format(root,the_name)\n",
    "        urllib.request.urlretrieve(url,the_name)\n",
    "           "
   ]
  },
  {
   "cell_type": "markdown",
   "metadata": {},
   "source": [
    "1. Hand in a notebook that\n",
    "\n",
    "   1. plots the ensemble average theta profile for 1 column, and the ensemble averaged vertical heat flux\n",
    "      in Watts/m^2 through the bottom model layer.\n",
    "      \n",
    "   1. histogram the normalized pressure perturbation $p^\\prime/p(z)$ for 1 ensemble member\n",
    "   \n",
    "2. Read the rest of Stull chapter 2 and do problem 8 if you haven't already"
   ]
  },
  {
   "cell_type": "code",
   "execution_count": null,
   "metadata": {
    "collapsed": true
   },
   "outputs": [],
   "source": []
  }
 ],
 "metadata": {
  "kernelspec": {
   "display_name": "Python 3",
   "language": "python",
   "name": "python3"
  },
  "language_info": {
   "codemirror_mode": {
    "name": "ipython",
    "version": 3
   },
   "file_extension": ".py",
   "mimetype": "text/x-python",
   "name": "python",
   "nbconvert_exporter": "python",
   "pygments_lexer": "ipython3",
   "version": "3.4.3"
  }
 },
 "nbformat": 4,
 "nbformat_minor": 0
}
