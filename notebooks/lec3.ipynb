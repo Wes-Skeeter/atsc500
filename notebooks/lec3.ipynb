{
 "cells": [
  {
   "cell_type": "markdown",
   "metadata": {},
   "source": [
    "#Reading a netcdf file"
   ]
  },
  {
   "cell_type": "markdown",
   "metadata": {},
   "source": [
    "1.  Fetch the netcdf file tropical.nc from my webserver (50 Mbytes)"
   ]
  },
  {
   "cell_type": "code",
   "execution_count": 10,
   "metadata": {
    "collapsed": false
   },
   "outputs": [
    {
     "data": {
      "text/plain": [
       "('tropical_subset.nc', <http.client.HTTPMessage at 0x108e7ad30>)"
      ]
     },
     "execution_count": 10,
     "metadata": {},
     "output_type": "execute_result"
    }
   ],
   "source": [
    "import urllib.request\n",
    "import numpy as np\n",
    "from netCDF4 import Dataset\n",
    "urllib.request.urlretrieve(\"http://clouds.eos.ubc.ca/~phil/docs/atsc500/tropical_subset.nc\", \n",
    "                           \"tropical_subset.nc\")"
   ]
  },
  {
   "cell_type": "markdown",
   "metadata": {},
   "source": [
    "2.  Identify the file structure using ncdump"
   ]
  },
  {
   "cell_type": "code",
   "execution_count": 25,
   "metadata": {
    "collapsed": false
   },
   "outputs": [
    {
     "name": "stdout",
     "output_type": "stream",
     "text": [
      "<class 'netCDF4._netCDF4.Dataset'>\r\n",
      "root group (NETCDF4 data model, file format UNDEFINED):\r\n",
      "    dimensions(sizes): x(100), y(110), z(112), time(1)\r\n",
      "    variables(dimensions): float32 \u001b[4mx\u001b[0m(x), float32 \u001b[4my\u001b[0m(y), float32 \u001b[4mz\u001b[0m(z), float32 \u001b[4mtime\u001b[0m(time), float32 \u001b[4mp\u001b[0m(z), float32 \u001b[4mU\u001b[0m(time,z,y,x), float32 \u001b[4mV\u001b[0m(time,z,y,x), float32 \u001b[4mW\u001b[0m(time,z,y,x), float32 \u001b[4mPP\u001b[0m(time,z,y,x), float32 \u001b[4mTABS\u001b[0m(time,z,y,x), float32 \u001b[4mQV\u001b[0m(time,z,y,x), float32 \u001b[4mQN\u001b[0m(time,z,y,x), float32 \u001b[4mQP\u001b[0m(time,z,y,x)\r\n",
      "    groups: \r\n",
      "\r\n"
     ]
    }
   ],
   "source": [
    "!ncinfo tropical_subset.nc"
   ]
  },
  {
   "cell_type": "markdown",
   "metadata": {},
   "source": [
    "3.  Read a variable using the netCDF4 module:  http://unidata.github.io/netcdf4-python/"
   ]
  },
  {
   "cell_type": "code",
   "execution_count": 12,
   "metadata": {
    "collapsed": false
   },
   "outputs": [
    {
     "name": "stdout",
     "output_type": "stream",
     "text": [
      "['x', 'y', 'z', 'time', 'p', 'U', 'V', 'W', 'PP', 'TABS', 'QV', 'QN', 'QP']\n",
      "(1, 112, 110, 100)\n",
      "(112, 110, 100)\n",
      "(112,)\n"
     ]
    }
   ],
   "source": [
    "with Dataset('tropical_subset.nc','r') as nc_in:\n",
    "    print(list(nc_in.variables.keys()))\n",
    "    the_temp=nc_in.variables['TABS'][...]\n",
    "    print(the_temp.shape)\n",
    "    #\n",
    "    # remove the time dimension since we only have one timestep\n",
    "    #\n",
    "    the_temp=the_temp.squeeze()\n",
    "    print(the_temp.shape)\n",
    "    the_height=nc_in.variables['z'][...]\n",
    "    print(the_height.shape)\n",
    "    the_press=nc_in.variables['p'][...]\n",
    "    the_press=the_press*100.  #convert to Pa\n",
    "    wvel=nc_in.variables['W'][...]\n",
    "    \n",
    "\n"
   ]
  },
  {
   "cell_type": "markdown",
   "metadata": {},
   "source": [
    "#Plotting three temperature profiles"
   ]
  },
  {
   "cell_type": "code",
   "execution_count": 13,
   "metadata": {
    "collapsed": false
   },
   "outputs": [
    {
     "data": {
      "text/plain": [
       "[<matplotlib.text.Text at 0x115f124a8>,\n",
       " <matplotlib.text.Text at 0x1028baa58>,\n",
       " <matplotlib.text.Text at 0x108eafda0>]"
      ]
     },
     "execution_count": 13,
     "metadata": {},
     "output_type": "execute_result"
    },
    {
     "data": {
      "image/png": "[encoded data removed]",
      "text/plain": [
       "<matplotlib.figure.Figure at 0x108e812b0>"
      ]
     },
     "metadata": {},
     "output_type": "display_data"
    }
   ],
   "source": [
    "%matplotlib inline\n",
    "#\n",
    "# plot 3 arbitrary columns\n",
    "#\n",
    "from matplotlib import pyplot as plt\n",
    "meter2km=1.e-3\n",
    "random_xy=[(10,20),(80,40),(25,75)]\n",
    "fig,ax=plt.subplots(1,1)\n",
    "for x,y in random_xy:\n",
    "    temp_profile=the_temp[:,x,y]\n",
    "    ax.plot(temp_profile,the_height*meter2km)  \n",
    "ax.set(xlabel='temperature (K)',ylabel='height (km)',title='3 profiles')"
   ]
  },
  {
   "cell_type": "markdown",
   "metadata": {},
   "source": [
    "# Calculate the horizontal average temperature"
   ]
  },
  {
   "cell_type": "code",
   "execution_count": 14,
   "metadata": {
    "collapsed": false
   },
   "outputs": [
    {
     "name": "stdout",
     "output_type": "stream",
     "text": [
      "(112, 110, 100)\n",
      "(112, 110)\n",
      "(112,)\n"
     ]
    }
   ],
   "source": [
    "print(the_temp.shape)\n",
    "xmean=the_temp.mean(axis=2)\n",
    "print(xmean.shape)\n",
    "xymean=xmean.mean(axis=1)\n",
    "print(xymean.shape)"
   ]
  },
  {
   "cell_type": "markdown",
   "metadata": {},
   "source": [
    "#Calculate the temperature pertubation"
   ]
  },
  {
   "cell_type": "code",
   "execution_count": 15,
   "metadata": {
    "collapsed": false
   },
   "outputs": [
    {
     "data": {
      "text/plain": [
       "[<matplotlib.text.Text at 0x115fc0320>,\n",
       " <matplotlib.text.Text at 0x108eaf710>,\n",
       " <matplotlib.text.Text at 0x115f9de48>]"
      ]
     },
     "execution_count": 15,
     "metadata": {},
     "output_type": "execute_result"
    },
    {
     "data": {
      "image/png": "[encoded data removed]",
      "text/plain": [
       "<matplotlib.figure.Figure at 0x115f61320>"
      ]
     },
     "metadata": {},
     "output_type": "display_data"
    }
   ],
   "source": [
    "fig,ax=plt.subplots(1,1)\n",
    "for x,y in random_xy:\n",
    "    temp_profile=the_temp[:,x,y] - xymean\n",
    "    ax.plot(temp_profile,the_height*meter2km)  \n",
    "ax.set(xlabel='temperature (K)',ylabel='height (km)',title='3 perturbation profiles')"
   ]
  },
  {
   "cell_type": "markdown",
   "metadata": {},
   "source": [
    "#Assignment for Wednesday, Sept. 16: 11am"
   ]
  },
  {
   "cell_type": "markdown",
   "metadata": {},
   "source": [
    "1.  Write a function that takes TABS and p and returns $\\theta$, the potential temperature\n",
    "\n",
    "1.  Make a plot of the vertical profile of $\\overline{w^\\prime \\theta^\\prime}$ vs. z for\n",
    "    this model timestep\n",
    "\n",
    "1.  Upload your version of this notebook to the cloud (Dropbox, googledrive etc.) and\n",
    "    email me a link"
   ]
  },
  {
   "cell_type": "code",
   "execution_count": 16,
   "metadata": {
    "collapsed": true
   },
   "outputs": [],
   "source": [
    "def theta(p,T):\n",
    "    \"\"\"\n",
    "      input: p (Pa), scalar pressure\n",
    "             T (K),  scalar or array of temperatures\n",
    "      output: thetaval (K) potential temperature\n",
    "    \"\"\"\n",
    "    Rd=287  #dry air gas constant  J/kg/K\n",
    "    cp=1004.  #dry air heat capacity at constant pressure (J/kg/K)\n",
    "    p0=1.e5  #reference pressure (Pa)\n",
    "    the_exp=Rd/cp\n",
    "    thetaval=T*(p0/p)**the_exp\n",
    "    return thetaval\n"
   ]
  },
  {
   "cell_type": "markdown",
   "metadata": {},
   "source": [
    "###Calculate theta at every level"
   ]
  },
  {
   "cell_type": "code",
   "execution_count": 26,
   "metadata": {
    "collapsed": false
   },
   "outputs": [],
   "source": [
    "thetavals=np.empty_like(the_temp)\n",
    "for lev,press_lev in enumerate(the_press):\n",
    "    thetavals[lev,:,:]=theta(press_lev,the_temp[lev,:,:])   "
   ]
  },
  {
   "cell_type": "markdown",
   "metadata": {},
   "source": [
    "###Plot some profiles"
   ]
  },
  {
   "cell_type": "code",
   "execution_count": 18,
   "metadata": {
    "collapsed": false
   },
   "outputs": [
    {
     "data": {
      "text/plain": [
       "[<matplotlib.text.Text at 0x117d29cc0>,\n",
       " <matplotlib.text.Text at 0x115fea278>,\n",
       " <matplotlib.text.Text at 0x115f7a4e0>]"
      ]
     },
     "execution_count": 18,
     "metadata": {},
     "output_type": "execute_result"
    },
    {
     "data": {
      "image/png": "[encoded data removed]",
      "text/plain": [
       "<matplotlib.figure.Figure at 0x115fb7278>"
      ]
     },
     "metadata": {},
     "output_type": "display_data"
    }
   ],
   "source": [
    "fig,ax=plt.subplots(1,1)\n",
    "for x,y in random_xy:\n",
    "    theta_profile=thetavals[:,x,y]\n",
    "    ax.plot(theta_profile,the_height*meter2km)  \n",
    "ax.set(xlabel='potential temperature (K)',ylabel='height (km)',title='3 profiles')"
   ]
  },
  {
   "cell_type": "markdown",
   "metadata": {},
   "source": [
    "###Find the perturbation wrt"
   ]
  },
  {
   "cell_type": "code",
   "execution_count": 29,
   "metadata": {
    "collapsed": false
   },
   "outputs": [
    {
     "data": {
      "text/plain": [
       "(112, 110, 100)"
      ]
     },
     "execution_count": 29,
     "metadata": {},
     "output_type": "execute_result"
    }
   ],
   "source": [
    "wvel.shape\n",
    "neww=wvel.squeeze()\n",
    "neww.shape"
   ]
  },
  {
   "cell_type": "code",
   "execution_count": null,
   "metadata": {
    "collapsed": true
   },
   "outputs": [],
   "source": [
    "w_bar=wvel.mean(axis=2).mean(axis=1)\n",
    "w_prime= wvel - w_bar"
   ]
  },
  {
   "cell_type": "code",
   "execution_count": 19,
   "metadata": {
    "collapsed": false
   },
   "outputs": [
    {
     "name": "stdout",
     "output_type": "stream",
     "text": [
      "(1, 112, 110, 100)\n"
     ]
    }
   ],
   "source": [
    "print(w_prime.shape)\n",
    "thetavals2=thetavals[np.newaxis,...] #make shape (1,112,110,100)\n",
    "theta_bar=thetavals2.mean(axis=2).mean(axis=1)\n",
    "theta_prime= thetavals2 - theta_bar\n",
    "flux=w_prime*theta_prime\n",
    "flux=flux.squeeze()  #make shape (112,110,100)\n",
    "mean_flux=flux.mean(axis=2).mean(axis=1)"
   ]
  },
  {
   "cell_type": "code",
   "execution_count": 20,
   "metadata": {
    "collapsed": false
   },
   "outputs": [
    {
     "data": {
      "text/plain": [
       "(1, 100)"
      ]
     },
     "execution_count": 20,
     "metadata": {},
     "output_type": "execute_result"
    }
   ],
   "source": [
    "theta_bar.shape"
   ]
  },
  {
   "cell_type": "code",
   "execution_count": 21,
   "metadata": {
    "collapsed": false
   },
   "outputs": [
    {
     "data": {
      "text/plain": [
       "[<matplotlib.text.Text at 0x117d9c358>,\n",
       " <matplotlib.text.Text at 0x108eaa6d8>,\n",
       " <matplotlib.text.Text at 0x115f61630>]"
      ]
     },
     "execution_count": 21,
     "metadata": {},
     "output_type": "execute_result"
    },
    {
     "data": {
      "image/png": "[encoded data removed]",
      "text/plain": [
       "<matplotlib.figure.Figure at 0x117d7a6d8>"
      ]
     },
     "metadata": {},
     "output_type": "display_data"
    }
   ],
   "source": [
    "fig,ax=plt.subplots(1,1)\n",
    "ax.plot(mean_flux,the_height*meter2km)\n",
    "ax.set(xlabel='potential temperature flux (K m/s)',ylabel='height (km)',title='theta flux')"
   ]
  },
  {
   "cell_type": "markdown",
   "metadata": {},
   "source": [
    "#Getting started with vapor"
   ]
  },
  {
   "cell_type": "markdown",
   "metadata": {},
   "source": [
    "1. Install vapor per [these instructions](https://www.vapor.ucar.edu/docs/usage/getting-started-vapor)\n",
    "1. Download and unzip the following file:"
   ]
  },
  {
   "cell_type": "code",
   "execution_count": 22,
   "metadata": {
    "collapsed": false
   },
   "outputs": [
    {
     "data": {
      "text/plain": [
       "('tropical.zip', <http.client.HTTPMessage at 0x115f895c0>)"
      ]
     },
     "execution_count": 22,
     "metadata": {},
     "output_type": "execute_result"
    }
   ],
   "source": [
    "urllib.request.urlretrieve(\"http://clouds.eos.ubc.ca/~phil/docs/atsc500/tropical.zip\", \n",
    "                           \"tropical.zip\")"
   ]
  },
  {
   "cell_type": "markdown",
   "metadata": {},
   "source": [
    "Start vapor, go to \"Data -> Load dataset into current session\" and see if you get a\n",
    "3-d visualization of TABS"
   ]
  },
  {
   "cell_type": "markdown",
   "metadata": {},
   "source": [
    "###Getting a ten member ensemble for the dry boundary layer les"
   ]
  },
  {
   "cell_type": "code",
   "execution_count": 23,
   "metadata": {
    "collapsed": false
   },
   "outputs": [
    {
     "name": "stdout",
     "output_type": "stream",
     "text": [
      "mar12014_1_15600.nc\n",
      "mar12014_2_15600.nc\n",
      "mar12014_3_15600.nc\n",
      "mar12014_4_15600.nc\n",
      "mar12014_5_15600.nc\n",
      "mar12014_6_15600.nc\n",
      "mar12014_7_15600.nc\n",
      "mar12014_8_15600.nc\n",
      "mar12014_9_15600.nc\n",
      "mar12014_10_15600.nc\n"
     ]
    }
   ],
   "source": [
    "root='http://clouds.eos.ubc.ca/~phil/docs/atsc500/dryles'\n",
    "for i in np.arange(1,11,dtype=np.int):\n",
    "    the_name='mar12014_{:d}_15600.nc'.format(i)\n",
    "    print(the_name)\n",
    "    url='{}/{}'.format(root,the_name)\n",
    "    urllib.request.urlretrieve(url,the_name)\n",
    "    \n",
    "    "
   ]
  },
  {
   "cell_type": "markdown",
   "metadata": {},
   "source": [
    "###Assignment for Monday, Sept. 21"
   ]
  },
  {
   "cell_type": "markdown",
   "metadata": {},
   "source": [
    "1. Hand in a notebook that\n",
    "\n",
    "   1. plots the ensemble average theta profile for 1 column, and the ensemble averaged vertical heat flux\n",
    "      in Watts/m^2 through the bottom model layer.\n",
    "      \n",
    "   1. histogram the normalized pressure perturbation $p^\\prime/p(z)$ for 1 ensemble member\n",
    "   \n",
    "2. Read the rest of Stull chapter 2 and do problem 8 if you haven't already"
   ]
  },
  {
   "cell_type": "code",
   "execution_count": null,
   "metadata": {
    "collapsed": true
   },
   "outputs": [],
   "source": []
  }
 ],
 "metadata": {
  "kernelspec": {
   "display_name": "Python 3",
   "language": "python",
   "name": "python3"
  },
  "language_info": {
   "codemirror_mode": {
    "name": "ipython",
    "version": 3
   },
   "file_extension": ".py",
   "mimetype": "text/x-python",
   "name": "python",
   "nbconvert_exporter": "python",
   "pygments_lexer": "ipython3",
   "version": "3.4.3"
  }
 },
 "nbformat": 4,
 "nbformat_minor": 0
}
