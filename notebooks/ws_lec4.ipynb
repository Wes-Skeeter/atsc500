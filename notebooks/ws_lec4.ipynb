{
 "cells": [
  {
   "cell_type": "code",
   "execution_count": 1,
   "metadata": {
    "collapsed": false
   },
   "outputs": [
    {
     "name": "stdout",
     "output_type": "stream",
     "text": [
      "run time 7.268056238999634 seconds\n"
     ]
    },
    {
     "data": {
      "image/png": "[encoded data removed]",
      "text/plain": [
       "<matplotlib.figure.Figure at 0x7f8dd05e3278>"
      ]
     },
     "metadata": {},
     "output_type": "display_data"
    },
    {
     "data": {
      "image/png": "[encoded data removed]",
      "text/plain": [
       "<matplotlib.figure.Figure at 0x7f8dc9c42710>"
      ]
     },
     "metadata": {},
     "output_type": "display_data"
    }
   ],
   "source": [
    "# -*- coding: utf-8 -*-\n",
    "\"\"\"\n",
    "Created on Tue Sep 22 15:18:44 2015\n",
    "\n",
    "Calculates & plots the heat flux & tke for the first km\n",
    "\n",
    "@author: wesley\n",
    "\"\"\"\n",
    "\n",
    "\n",
    "from netCDF4 import Dataset\n",
    "from matplotlib import pyplot as plt\n",
    "% matplotlib inline\n",
    "import numpy as np\n",
    "import urllib.request\n",
    "import os\n",
    "import timeit\n",
    "\n",
    "\n",
    "start = timeit.default_timer()\n",
    "\n",
    "Rd = 287\n",
    "cp = 1004\n",
    "\n",
    "root='http://clouds.eos.ubc.ca/~phil/docs/atsc500/dryles'\n",
    "Data_Dir=os.getcwd()+'/data_lec4/'\n",
    "if not os.path.exists(Data_Dir):\n",
    "    os.makedirs(Data_Dir)\n",
    "    for i in np.arange(1,11,dtype=np.int):\n",
    "        the_name='mar12014_{:d}_15600.nc'.format(i)\n",
    "        url='{}/{}'.format(root,the_name)\n",
    "        Data=os.path.join(Data_Dir,the_name)\n",
    "        urllib.request.urlretrieve(url,Data)\n",
    "cnt = 0.0\n",
    "for the_name in os.listdir(Data_Dir):\n",
    "    cnt = cnt + 1.0\n",
    "    file = Data_Dir+the_name\n",
    "    with Dataset(Data_Dir+the_name,'r') as nc_in:\n",
    "        T=nc_in.variables['TABS'][...]\n",
    "        T=T.squeeze()\n",
    "        P=nc_in.variables['p'][...]*100\n",
    "        P=P.squeeze()\n",
    "        Z=nc_in.variables['z'][...]\n",
    "        Z=Z.squeeze()\n",
    "        W=nc_in.variables['W'][...]\n",
    "        W=W.squeeze()\n",
    "        U=nc_in.variables['U'][...]\n",
    "        U=U.squeeze()\n",
    "        V=nc_in.variables['V'][...]\n",
    "        V=V.squeeze()\n",
    "        if cnt == 1.0:\n",
    "            HF_av=np.zeros(shape=(W.shape))\n",
    "            W_prime2_av=np.zeros(shape=(W.shape))\n",
    "            V_prime2_av=np.zeros(shape=(W.shape))\n",
    "            U_prime2_av=np.zeros(shape=(W.shape))\n",
    "#\n",
    "#       Mean Values\n",
    "#        \n",
    "        T_bar=T.mean(axis=2).mean(axis=1)\n",
    "        W_bar=W.mean(axis=2).mean(axis=1)\n",
    "        V_bar=V.mean(axis=2).mean(axis=1)\n",
    "        U_bar=U.mean(axis=2).mean(axis=1)\n",
    "#        \n",
    "#       Primes\n",
    "#       \n",
    "        T_prime=T-T_bar[:,np.newaxis,np.newaxis]\n",
    "        W_prime=W-W_bar[:,np.newaxis,np.newaxis]\n",
    "        W_prime2=W_prime**2\n",
    "        W_prime2_av+=W_prime2\n",
    "        V_prime2=(V-V_bar[:,np.newaxis,np.newaxis])**2\n",
    "        V_prime2_av+=V_prime2\n",
    "        U_prime2=(U-U_bar[:,np.newaxis,np.newaxis])**2\n",
    "        U_prime2_av+=U_prime2\n",
    "#        \n",
    "#       Heat Flux\n",
    "#        \n",
    "        HF=T_prime*W_prime\n",
    "        density = P/(Rd*T_bar)\n",
    "        HF = density[:,np.newaxis,np.newaxis]*cp*HF\n",
    "        HF_av += HF\n",
    "#\n",
    "#       Calc & Plot ensemble averaged sensible heat flux\n",
    "#        \n",
    "HF_av=(HF_av/cnt).mean(axis=2).mean(axis=1)\n",
    "pl = plt.figure(1)\n",
    "ax1 = pl.add_subplot(1,1,1)\n",
    "ax1.plot(HF_av,Z)\n",
    "ax1.set(ylim=(0,1000),xlabel='W/m^2',ylabel='Height',title='Sensible Heat Flux')\n",
    "#\n",
    "#       Cacl & Plot TKE       \n",
    "#\n",
    "W_prime2_bar=(W_prime2_av/cnt).mean(axis=2).mean(axis=1)\n",
    "V_prime2_bar=(V_prime2_av/cnt).mean(axis=2).mean(axis=1)\n",
    "U_prime2_bar=(U_prime2_av/cnt).mean(axis=2).mean(axis=1)\n",
    "TKE=.5*(U_prime2_bar+V_prime2_bar+W_prime2_bar)\n",
    "pl = plt.figure(2)\n",
    "ax2 = pl.add_subplot(1,1,1)\n",
    "ax2.plot(TKE,Z)\n",
    "ax2.set(ylim=(0,1000),xlabel='m^2/s^2',ylabel='Height',title='Total Perturbation Kinetic Energy')\n",
    "\n",
    "\n",
    "stop = timeit.default_timer()\n",
    "print ('run time', stop-start, 'seconds')"
   ]
  }
 ],
 "metadata": {
  "kernelspec": {
   "display_name": "Python 3",
   "language": "python",
   "name": "python3"
  },
  "language_info": {
   "codemirror_mode": {
    "name": "ipython",
    "version": 3
   },
   "file_extension": ".py",
   "mimetype": "text/x-python",
   "name": "python",
   "nbconvert_exporter": "python",
   "pygments_lexer": "ipython3",
   "version": "3.4.3"
  }
 },
 "nbformat": 4,
 "nbformat_minor": 0
}
