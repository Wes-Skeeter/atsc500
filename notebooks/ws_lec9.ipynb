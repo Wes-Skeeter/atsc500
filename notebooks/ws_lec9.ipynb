{
 "cells": [
  {
   "cell_type": "code",
   "execution_count": 69,
   "metadata": {
    "collapsed": true
   },
   "outputs": [],
   "source": [
    "import urllib.request\n",
    "import numpy as np\n",
    "from netCDF4 import Dataset\n",
    "from matplotlib import pyplot as plt\n",
    "import math\n",
    "\n",
    "%matplotlib inline\n",
    "\n",
    "data_download=False\n",
    "### set this to True if running for the first time\n",
    "if data_download:\n",
    "    urllib.request.urlretrieve(\"http://clouds.eos.ubc.ca/~phil/docs/atsc500/tropical_subset.nc\", \n",
    "                           \"tropical_subset.nc\")"
   ]
  },
  {
   "cell_type": "markdown",
   "metadata": {},
   "source": [
    "Define varriables"
   ]
  },
  {
   "cell_type": "code",
   "execution_count": 116,
   "metadata": {
    "collapsed": false
   },
   "outputs": [
    {
     "name": "stdout",
     "output_type": "stream",
     "text": [
      "['x', 'y', 'z', 'time', 'p', 'U', 'V', 'W', 'PP', 'TABS', 'QV', 'QN', 'QP']\n"
     ]
    },
    {
     "ename": "IndexError",
     "evalue": "tuple index out of range",
     "output_type": "error",
     "traceback": [
      "\u001b[1;31m---------------------------------------------------------------------------\u001b[0m",
      "\u001b[1;31mIndexError\u001b[0m                                Traceback (most recent call last)",
      "\u001b[1;32m<ipython-input-116-9faf3f64608f>\u001b[0m in \u001b[0;36m<module>\u001b[1;34m()\u001b[0m\n\u001b[0;32m     31\u001b[0m     \u001b[0mV_bar\u001b[0m\u001b[1;33m=\u001b[0m\u001b[0mV\u001b[0m\u001b[1;33m.\u001b[0m\u001b[0mmean\u001b[0m\u001b[1;33m(\u001b[0m\u001b[0maxis\u001b[0m\u001b[1;33m=\u001b[0m\u001b[1;36m2\u001b[0m\u001b[1;33m)\u001b[0m\u001b[1;33m.\u001b[0m\u001b[0mmean\u001b[0m\u001b[1;33m(\u001b[0m\u001b[0maxis\u001b[0m\u001b[1;33m=\u001b[0m\u001b[1;36m1\u001b[0m\u001b[1;33m)\u001b[0m\u001b[1;33m\u001b[0m\u001b[0m\n\u001b[0;32m     32\u001b[0m     \u001b[0mU_bar\u001b[0m\u001b[1;33m=\u001b[0m\u001b[0mU\u001b[0m\u001b[1;33m.\u001b[0m\u001b[0mmean\u001b[0m\u001b[1;33m(\u001b[0m\u001b[0maxis\u001b[0m\u001b[1;33m=\u001b[0m\u001b[1;36m2\u001b[0m\u001b[1;33m)\u001b[0m\u001b[1;33m.\u001b[0m\u001b[0mmean\u001b[0m\u001b[1;33m(\u001b[0m\u001b[0maxis\u001b[0m\u001b[1;33m=\u001b[0m\u001b[1;36m1\u001b[0m\u001b[1;33m)\u001b[0m\u001b[1;33m\u001b[0m\u001b[0m\n\u001b[1;32m---> 33\u001b[1;33m     \u001b[0mP_bar\u001b[0m\u001b[1;33m=\u001b[0m\u001b[0mpres\u001b[0m\u001b[1;33m.\u001b[0m\u001b[0mmean\u001b[0m\u001b[1;33m(\u001b[0m\u001b[0maxis\u001b[0m\u001b[1;33m=\u001b[0m\u001b[1;36m2\u001b[0m\u001b[1;33m)\u001b[0m\u001b[1;33m.\u001b[0m\u001b[0mmean\u001b[0m\u001b[1;33m(\u001b[0m\u001b[0maxis\u001b[0m\u001b[1;33m=\u001b[0m\u001b[1;36m1\u001b[0m\u001b[1;33m)\u001b[0m\u001b[1;33m\u001b[0m\u001b[0m\n\u001b[0m\u001b[0;32m     34\u001b[0m \u001b[1;31m#\u001b[0m\u001b[1;33m\u001b[0m\u001b[1;33m\u001b[0m\u001b[0m\n\u001b[0;32m     35\u001b[0m \u001b[1;31m#   Theta & Theta_v\u001b[0m\u001b[1;33m\u001b[0m\u001b[1;33m\u001b[0m\u001b[0m\n",
      "\u001b[1;32m/usr/local/anaconda3/lib/python3.4/site-packages/numpy/core/_methods.py\u001b[0m in \u001b[0;36m_mean\u001b[1;34m(a, axis, dtype, out, keepdims)\u001b[0m\n\u001b[0;32m     54\u001b[0m     \u001b[0marr\u001b[0m \u001b[1;33m=\u001b[0m \u001b[0masanyarray\u001b[0m\u001b[1;33m(\u001b[0m\u001b[0ma\u001b[0m\u001b[1;33m)\u001b[0m\u001b[1;33m\u001b[0m\u001b[0m\n\u001b[0;32m     55\u001b[0m \u001b[1;33m\u001b[0m\u001b[0m\n\u001b[1;32m---> 56\u001b[1;33m     \u001b[0mrcount\u001b[0m \u001b[1;33m=\u001b[0m \u001b[0m_count_reduce_items\u001b[0m\u001b[1;33m(\u001b[0m\u001b[0marr\u001b[0m\u001b[1;33m,\u001b[0m \u001b[0maxis\u001b[0m\u001b[1;33m)\u001b[0m\u001b[1;33m\u001b[0m\u001b[0m\n\u001b[0m\u001b[0;32m     57\u001b[0m     \u001b[1;31m# Make this warning show up first\u001b[0m\u001b[1;33m\u001b[0m\u001b[1;33m\u001b[0m\u001b[0m\n\u001b[0;32m     58\u001b[0m     \u001b[1;32mif\u001b[0m \u001b[0mrcount\u001b[0m \u001b[1;33m==\u001b[0m \u001b[1;36m0\u001b[0m\u001b[1;33m:\u001b[0m\u001b[1;33m\u001b[0m\u001b[0m\n",
      "\u001b[1;32m/usr/local/anaconda3/lib/python3.4/site-packages/numpy/core/_methods.py\u001b[0m in \u001b[0;36m_count_reduce_items\u001b[1;34m(arr, axis)\u001b[0m\n\u001b[0;32m     48\u001b[0m     \u001b[0mitems\u001b[0m \u001b[1;33m=\u001b[0m \u001b[1;36m1\u001b[0m\u001b[1;33m\u001b[0m\u001b[0m\n\u001b[0;32m     49\u001b[0m     \u001b[1;32mfor\u001b[0m \u001b[0max\u001b[0m \u001b[1;32min\u001b[0m \u001b[0maxis\u001b[0m\u001b[1;33m:\u001b[0m\u001b[1;33m\u001b[0m\u001b[0m\n\u001b[1;32m---> 50\u001b[1;33m         \u001b[0mitems\u001b[0m \u001b[1;33m*=\u001b[0m \u001b[0marr\u001b[0m\u001b[1;33m.\u001b[0m\u001b[0mshape\u001b[0m\u001b[1;33m[\u001b[0m\u001b[0max\u001b[0m\u001b[1;33m]\u001b[0m\u001b[1;33m\u001b[0m\u001b[0m\n\u001b[0m\u001b[0;32m     51\u001b[0m     \u001b[1;32mreturn\u001b[0m \u001b[0mitems\u001b[0m\u001b[1;33m\u001b[0m\u001b[0m\n\u001b[0;32m     52\u001b[0m \u001b[1;33m\u001b[0m\u001b[0m\n",
      "\u001b[1;31mIndexError\u001b[0m: tuple index out of range"
     ]
    }
   ],
   "source": [
    "with Dataset('tropical_subset.nc','r') as nc_in:\n",
    "    print(list(nc_in.variables.keys()))\n",
    "    #\n",
    "    # remove the time dimension since we only have one timestep\n",
    "    #   \n",
    "    \n",
    "    Rd=287  #dry air gas constant  J/kg/K\n",
    "    cp=1004.  #dry air heat capacity at constant pressure (J/kg/K)\n",
    "    p0=1.e5 \n",
    "    g=9.8\n",
    "    k=0.4\n",
    "    Z=nc_in.variables['z'][...]\n",
    "    X=nc_in.variables['x'][...]\n",
    "    Y=nc_in.variables['y'][...]\n",
    "    pres=nc_in.variables['p'][...]  \n",
    "    pres=pres*100.  #convert to Pa\n",
    "    T=nc_in.variables['TABS'][0,...]\n",
    "    W=nc_in.variables['W'][0,...]  #m/s\n",
    "    U=nc_in.variables['U'][0,...]  #m/s\n",
    "    V=nc_in.variables['V'][0,...]  #m/s  \n",
    "    qv=nc_in.variables['QV'][0,...]  #g/kg\n",
    "    qv = qv/1000\n",
    "    qn=nc_in.variables['QN'][0,...]  #g/kg\n",
    "    qn = qn/1000\n",
    "    \n",
    "#\n",
    "#       Mean Values\n",
    "#        \n",
    "    T_bar=T.mean(axis=2).mean(axis=1)\n",
    "    W_bar=W.mean(axis=2).mean(axis=1)\n",
    "    V_bar=V.mean(axis=2).mean(axis=1)\n",
    "    U_bar=U.mean(axis=2).mean(axis=1)\n",
    "    P_bar=pres.mean(axis=2).mean(axis=1)\n",
    "#   \n",
    "#   Theta & Theta_v\n",
    "#    \n",
    "    Theta = T*(p0/pres[:,np.newaxis,np.newaxis])**(Rd/cp)\n",
    "    Theta_v = Theta*(1+0.61*qv-qn)\n",
    "#\n",
    "#   Primes\n",
    "#\n",
    "    w_Bar = W.mean(axis = 2).mean(axis = 1)\n",
    "    w_prime = W - w_Bar[:,np.newaxis,np.newaxis]\n",
    "    u_Bar = U.mean(axis = 2).mean(axis = 1)\n",
    "    u_prime = U - u_Bar[:,np.newaxis,np.newaxis]\n",
    "    v_Bar = V.mean(axis = 2).mean(axis = 1)\n",
    "    v_prime = V - v_Bar[:,np.newaxis,np.newaxis]\n",
    "    Theta_v_Bar = Theta_v.mean(axis = 2).mean(axis = 1)\n",
    "    Theta_v_prime = Theta_v - Theta_v_Bar[:,np.newaxis,np.newaxis]\n",
    "    P_prime=pres-P_bar"
   ]
  },
  {
   "cell_type": "markdown",
   "metadata": {},
   "source": [
    "### Calculate zi ~ 425 m"
   ]
  },
  {
   "cell_type": "code",
   "execution_count": 71,
   "metadata": {
    "collapsed": false
   },
   "outputs": [
    {
     "name": "stdout",
     "output_type": "stream",
     "text": [
      "425.0\n"
     ]
    },
    {
     "data": {
      "text/plain": [
       "[<matplotlib.text.Text at 0x7f005ed22198>,\n",
       " (0, 1000),\n",
       " <matplotlib.text.Text at 0x7f005ed9c3c8>,\n",
       " <matplotlib.text.Text at 0x7f005ed35e48>]"
      ]
     },
     "execution_count": 71,
     "metadata": {},
     "output_type": "execute_result"
    },
    {
     "data": {
      "image/png": "[encoded data removed]",
      "text/plain": [
       "<matplotlib.figure.Figure at 0x7f005ed6ca90>"
      ]
     },
     "metadata": {},
     "output_type": "display_data"
    }
   ],
   "source": [
    "x=0\n",
    "y=0\n",
    "while x == 0:\n",
    "    if Theta_v_Bar[y]+0.1 < Theta_v_Bar[y+1]:\n",
    "        x = y+1     \n",
    "    y = y+1\n",
    "print (Z[x])\n",
    "zi_lev = x\n",
    "pl = plt.figure(1)\n",
    "ax1 = pl.add_subplot(1,1,1)\n",
    "ax1.plot(Theta_v_Bar,Z)\n",
    "ax1.set(xlabel='Virtual Potential Temp (K)',ylabel='height (km)',title = 'Theta_v Profile',ylim=(0,1000))"
   ]
  },
  {
   "cell_type": "markdown",
   "metadata": {},
   "source": [
    "# Calculate, tke, w*, u*,& L varriables\n",
    "    ### For L I had to average w_'*theta_v' and ustar over the depth of the boundary layer to avoid errors fro divding by a zero value since the w' at z=0 is zero"
   ]
  },
  {
   "cell_type": "code",
   "execution_count": 105,
   "metadata": {
    "collapsed": false
   },
   "outputs": [
    {
     "name": "stdout",
     "output_type": "stream",
     "text": [
      "0.000466908080849 0.0062503011794\n"
     ]
    }
   ],
   "source": [
    "## w*\n",
    "w_star = g*Z[zi_lev]/Theta_v_Bar[:,np.newaxis,np.newaxis]*(w_prime*Theta_v_prime)\n",
    "temp = w_star\n",
    "temp[temp < 0] = -1\n",
    "temp[temp > 0] = 1\n",
    "w_star = (abs(w_star)**(1/3)*temp).mean(axis = 2).mean(axis = 1)\n",
    "wst = w_star[0:x].mean()\n",
    "## u*\n",
    "uw_bar = (u_prime*w_prime).mean(axis = 2).mean(axis = 1)\n",
    "vw_bar = (v_prime*w_prime).mean(axis = 2).mean(axis = 1)\n",
    "u_star = (uw_bar**2+vw_bar**2)**(.25)\n",
    "ust = u_star[0:x].mean()\n",
    "## TKE\n",
    "w_prime_bar = w_prime.mean(axis = 2).mean(axis = 1)\n",
    "u_prime_bar = u_prime.mean(axis = 2).mean(axis = 1)\n",
    "v_prime_bar = v_prime.mean(axis = 2).mean(axis = 1)\n",
    "TKE = 0.5*(w_prime_bar**2+u_prime_bar**2+v_prime_bar**2)\n",
    "### L\n",
    "wTheta_v_Bar = (Theta_v_prime*w_prime).mean(axis = 2).mean(axis = 1)\n",
    "w_theta_v_Bar = wTheta_v_Bar[0:x].mean()\n",
    "L = w_theta_v_Bar*ust3**3/(k*g*w_theta_v_Bar)"
   ]
  },
  {
   "cell_type": "markdown",
   "metadata": {},
   "source": []
  },
  {
   "cell_type": "code",
   "execution_count": 115,
   "metadata": {
    "collapsed": false
   },
   "outputs": [],
   "source": [
    "fig59a = w_prime_bar*TKE/(wst**3)\n",
    "fig59b = w_prime_bar*TKE/(ust**3)\n",
    "fig510a = (w_prime*(u_prime**2+v_prime**2)).mean(axis = 2).mean(axis = 1)/(2*wst**3)\n",
    "fig510b = (w_prime**3).mean(axis=2).mean(axis=1)/(2*wst**3)\n",
    "wpm = w_prime**3\n",
    "wpm = wpm.mean()\n",
    "fig510c = ((w_prime*(u_prime**2+v_prime**2)).mean(axis = 2).mean(axis = 1))/(wpm)\n"
   ]
  },
  {
   "cell_type": "code",
   "execution_count": null,
   "metadata": {
    "collapsed": true
   },
   "outputs": [],
   "source": []
  }
 ],
 "metadata": {
  "kernelspec": {
   "display_name": "Python 3",
   "language": "python",
   "name": "python3"
  },
  "language_info": {
   "codemirror_mode": {
    "name": "ipython",
    "version": 3
   },
   "file_extension": ".py",
   "mimetype": "text/x-python",
   "name": "python",
   "nbconvert_exporter": "python",
   "pygments_lexer": "ipython3",
   "version": "3.4.3"
  }
 },
 "nbformat": 4,
 "nbformat_minor": 0
}
