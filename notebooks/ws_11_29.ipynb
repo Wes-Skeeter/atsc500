{
 "cells": [
  {
   "cell_type": "markdown",
   "metadata": {},
   "source": [
    "### Add an equation for the vapor mixing ratio"
   ]
  },
  {
   "cell_type": "code",
   "execution_count": 21,
   "metadata": {
    "collapsed": false
   },
   "outputs": [],
   "source": [
    "def theta_ft(h,ft_intercept,gamma):\n",
    "    \"\"\"\n",
    "       input h (meters) and the coefficients for the linear\n",
    "       profile for the free troposphere theta (ft_intercept (K)  and slope gamma (K/m))\n",
    "       return the free tropospher theta at height h\n",
    "    \"\"\"\n",
    "    theta_top = ft_intercept + h*gamma\n",
    "    return theta_top\n",
    "\n",
    "#\n",
    "# helper function to turn a dictionary into a named tuple\n",
    "#\n",
    "from collections import namedtuple\n",
    "def make_tuple(tupname,in_dict):\n",
    "    the_tup = namedtuple(tupname, in_dict.keys())\n",
    "    the_tup = the_tup(**in_dict)\n",
    "    return the_tup\n"
   ]
  },
  {
   "cell_type": "code",
   "execution_count": 22,
   "metadata": {
    "collapsed": false
   },
   "outputs": [],
   "source": [
    "%matplotlib inline\n",
    "import numpy as np\n",
    "import scipy.integrate as integrate\n",
    "from matplotlib import pyplot as plt\n",
    "import pandas as pd\n",
    "import thermlib\n",
    "from importlib import reload\n",
    "reload(thermlib)\n",
    "from thermlib import thermfuncs as tf\n",
    "\n",
    "\n",
    "\n",
    "def dmixed_vars(the_vars,tstep,coeffs):\n",
    "    \"\"\"\n",
    "      the_vars[0]= thetabar\n",
    "      the_vars[1] = h\n",
    "      the_vars[2] = qv\n",
    "      \n",
    "      surface flux from drag law with subsidence and diagnosed deltheta\n",
    "    \"\"\"\n",
    "    #print('the_vars: ',the_vars,D,U)\n",
    "    deltheta = theta_ft(the_vars[1],coeffs.ft_intercept,coeffs.ft_gamma) - the_vars[0]\n",
    "    F0 = coeffs.U*coeffs.Cd*(coeffs.sst - the_vars[0])  #surface heat flux\n",
    "    Fqv0 = coeffs.U*coeffs.Cd*(coeffs.qsfc - the_vars[2])  #surface vapor flux\n",
    "    Fint = -coeffs.k*F0  #entrainment heat flux\n",
    "    eta = 0.8\n",
    "    delF = 0.035\n",
    "    went = eta*delF/deltheta  #entrainment velocity (positive upward)\n",
    "    Fqvent = -went*( coeffs.ft_qv - the_vars[2])\n",
    "    wsubs = -coeffs.D*the_vars[1]\n",
    "    rho=1.\n",
    "    cp=1004.\n",
    "    derivs=np.empty_like(the_vars)\n",
    "    derivs[0]=(F0 - Fint)/(the_vars[1]*rho) - coeffs.radcool/1004./the_vars[1]\n",
    "    derivs[1] = went + wsubs\n",
    "    derivs[2] = (Fqv0 - Fqvent)/the_vars[1]\n",
    "    return derivs"
   ]
  },
  {
   "cell_type": "code",
   "execution_count": 23,
   "metadata": {
    "collapsed": false
   },
   "outputs": [],
   "source": [
    "reload(thermlib)\n",
    "from thermlib import thermfuncs as tf\n",
    "dtout=10.  #minutes\n",
    "end_time=8*24.   #hours\n",
    "del_time=dtout*60. #seconds\n",
    "end_time=end_time*3600. #seconds\n",
    "sst=295\n",
    "D=5.e-6  #s-1\n",
    "U=10  #m/s\n",
    "psfc=100. #kPa\n",
    "qsfc=tf.qs_tp(sst,psfc)\n",
    "ft_intercept = 288 #K\n",
    "ft_gamma = 6.e-3  #K/m\n",
    "ft_qv = 2.e-3\n",
    "k=0.2  #entrainment efficiency\n",
    "Cd = 1.e-3  #drag coefficient\n",
    "tspan = np.arange(0.,end_time,del_time)\n",
    "vars_init=[285.,400.,8.e-3]  #theta (K), height (m) qv (kg/kg) to start\n",
    "the_tup=dict(D=D,U=U,sst=sst,ft_intercept=ft_intercept,ft_gamma=ft_gamma,\n",
    "             qsfc=qsfc,ft_qv=ft_qv,k=k,Cd=Cd,radcool=30.)\n",
    "the_tup=make_tuple('coeffs',the_tup)\n",
    "output=integrate.odeint(dmixed_vars, vars_init, tspan,(the_tup,))\n",
    "result=pd.DataFrame.from_records(output,columns=['theta','h','qv'])\n",
    "result['time']=tspan/3600./24.  #days\n",
    "result['deltheta'] = theta_ft(result['h'].values,ft_intercept,ft_gamma) - result['theta']"
   ]
  },
  {
   "cell_type": "markdown",
   "metadata": {},
   "source": [
    "# Calc Went following paramterization of de Roode\n",
    "\n",
    "### using the parameterizations listed on slide 9\n",
    "    \n",
    "## H reaches equilibrium ~ where the graph in slide 9 says it shoud"
   ]
  },
  {
   "cell_type": "code",
   "execution_count": 24,
   "metadata": {
    "collapsed": false
   },
   "outputs": [
    {
     "data": {
      "text/plain": [
       "<matplotlib.legend.Legend at 0x7f6e6e32cac8>"
      ]
     },
     "execution_count": 24,
     "metadata": {},
     "output_type": "execute_result"
    },
    {
     "data": {
      "image/png": "[encoded data removed]",
      "text/plain": [
       "<matplotlib.figure.Figure at 0x7f6e6e4d2908>"
      ]
     },
     "metadata": {},
     "output_type": "display_data"
    }
   ],
   "source": [
    "%matplotlib inline\n",
    "plt.close('all')\n",
    "plt.style.use('ggplot')\n",
    "fig,ax = plt.subplots(1,1,figsize=(16,10))\n",
    "ax.plot(result['time'],result['h'],label='new')\n",
    "ax.set(ylabel='height (m)',xlabel='time (days)',title='height')\n",
    "ax.legend(loc='best')\n"
   ]
  }
 ],
 "metadata": {
  "kernelspec": {
   "display_name": "Python 3",
   "language": "python",
   "name": "python3"
  },
  "language_info": {
   "codemirror_mode": {
    "name": "ipython",
    "version": 3
   },
   "file_extension": ".py",
   "mimetype": "text/x-python",
   "name": "python",
   "nbconvert_exporter": "python",
   "pygments_lexer": "ipython3",
   "version": "3.4.3"
  }
 },
 "nbformat": 4,
 "nbformat_minor": 0
}
